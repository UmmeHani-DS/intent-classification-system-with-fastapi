{
 "cells": [
  {
   "cell_type": "markdown",
   "metadata": {
    "_cell_guid": "2be381b2-97e9-45da-9fae-66f9f6bb5c25",
    "_uuid": "10ebf3dc-45ca-47d5-98c1-a89f76f12493",
    "collapsed": false,
    "jupyter": {
     "outputs_hidden": false
    },
    "trusted": true
   },
   "source": [
    "# Libraries"
   ]
  },
  {
   "cell_type": "code",
   "execution_count": 2,
   "metadata": {
    "_cell_guid": "0ee58a02-32b0-48e3-ac0f-77b9ee9a8a59",
    "_uuid": "92e17723-b419-4726-b837-7a420a2ffeef",
    "collapsed": false,
    "execution": {
     "iopub.execute_input": "2025-06-27T13:06:13.735153Z",
     "iopub.status.busy": "2025-06-27T13:06:13.734735Z",
     "iopub.status.idle": "2025-06-27T13:06:13.742451Z",
     "shell.execute_reply": "2025-06-27T13:06:13.741225Z",
     "shell.execute_reply.started": "2025-06-27T13:06:13.735124Z"
    },
    "jupyter": {
     "outputs_hidden": false
    },
    "trusted": true
   },
   "outputs": [],
   "source": [
    "import pandas as pd\n",
    "import numpy as np\n",
    "import re\n",
    "import joblib\n",
    "import spacy\n",
    "from sklearn.feature_extraction.text import TfidfVectorizer\n",
    "from sklearn.preprocessing import LabelEncoder\n",
    "from sklearn.model_selection import train_test_split, GridSearchCV, StratifiedKFold\n",
    "from sklearn.naive_bayes import MultinomialNB\n",
    "from sklearn.linear_model import LogisticRegression\n",
    "from sklearn.ensemble import RandomForestClassifier\n",
    "from sklearn.ensemble import VotingClassifier\n",
    "from sklearn.metrics import accuracy_score, classification_report, confusion_matrix\n",
    "from sklearn.metrics import   precision_recall_fscore_support, roc_curve, auc\n",
    "from sklearn.preprocessing import label_binarize\n",
    "from sklearn.model_selection import learning_curve\n",
    "from scipy.sparse import hstack, csr_matrix\n",
    "import matplotlib.pyplot as plt\n",
    "import seaborn as sns"
   ]
  },
  {
   "cell_type": "markdown",
   "metadata": {
    "_cell_guid": "1d94eb76-c9d7-4af0-8700-97efa845ab29",
    "_uuid": "689d22ea-9b01-4a18-b1f4-b8c2b39197b6",
    "collapsed": false,
    "jupyter": {
     "outputs_hidden": false
    },
    "trusted": true
   },
   "source": [
    "# Data Preprocessing"
   ]
  },
  {
   "cell_type": "code",
   "execution_count": 5,
   "metadata": {
    "_cell_guid": "839fd5ae-7d49-427c-9835-10ce5f907fb8",
    "_uuid": "0201d390-962a-4dc6-b61c-f7102d428916",
    "collapsed": false,
    "execution": {
     "iopub.execute_input": "2025-06-27T13:06:14.308976Z",
     "iopub.status.busy": "2025-06-27T13:06:14.308673Z",
     "iopub.status.idle": "2025-06-27T13:06:14.330733Z",
     "shell.execute_reply": "2025-06-27T13:06:14.329928Z",
     "shell.execute_reply.started": "2025-06-27T13:06:14.308952Z"
    },
    "jupyter": {
     "outputs_hidden": false
    },
    "trusted": true
   },
   "outputs": [
    {
     "name": "stdout",
     "output_type": "stream",
     "text": [
      "Dataset shape: (1000, 2)\n",
      "Intent distribution:\n",
      "intent\n",
      "web_search           200\n",
      "knowledge_query      200\n",
      "general_chat         200\n",
      "email_send           200\n",
      "calendar_schedule    200\n",
      "Name: count, dtype: int64\n"
     ]
    }
   ],
   "source": [
    "df = pd.read_csv('intent_classification_dataset.csv')\n",
    "print(f\"Dataset shape: {df.shape}\")\n",
    "print(f\"Intent distribution:\\n{df.intent.value_counts()}\")"
   ]
  },
  {
   "cell_type": "code",
   "execution_count": 6,
   "metadata": {
    "_cell_guid": "46c068f3-4285-4814-aafd-1d0926f44fb9",
    "_uuid": "ff0dc86e-5105-4367-ad76-96683cef7e80",
    "collapsed": false,
    "execution": {
     "iopub.execute_input": "2025-06-27T13:06:14.568245Z",
     "iopub.status.busy": "2025-06-27T13:06:14.567928Z",
     "iopub.status.idle": "2025-06-27T13:06:14.582025Z",
     "shell.execute_reply": "2025-06-27T13:06:14.581111Z",
     "shell.execute_reply.started": "2025-06-27T13:06:14.568224Z"
    },
    "jupyter": {
     "outputs_hidden": false
    },
    "trusted": true
   },
   "outputs": [],
   "source": [
    "# Text preprocessing\n",
    "def clean_text(text):\n",
    "    text = str(text).lower()\n",
    "    text = re.sub(r'[^\\w\\s]', ' ', text)\n",
    "    text = re.sub(r'\\d+', ' ', text)\n",
    "    return ' '.join(text.split())\n",
    "\n",
    "df['cleaned_text'] = df['text'].apply(clean_text)"
   ]
  },
  {
   "cell_type": "code",
   "execution_count": 7,
   "metadata": {
    "_cell_guid": "fc6e32d4-41e3-4dfb-9045-11253b3dcb21",
    "_uuid": "b55a1ae2-c415-497a-87cc-4154cae88c27",
    "collapsed": false,
    "execution": {
     "iopub.execute_input": "2025-06-27T13:06:14.778134Z",
     "iopub.status.busy": "2025-06-27T13:06:14.777801Z",
     "iopub.status.idle": "2025-06-27T13:06:22.874186Z",
     "shell.execute_reply": "2025-06-27T13:06:22.873314Z",
     "shell.execute_reply.started": "2025-06-27T13:06:14.778111Z"
    },
    "jupyter": {
     "outputs_hidden": false
    },
    "trusted": true
   },
   "outputs": [],
   "source": [
    "nlp = spacy.load(\"en_core_web_sm\")\n",
    "\n",
    "# Tokenize and lemmatize\n",
    "def process_text(text):\n",
    "    doc = nlp(text)\n",
    "    tokens = [token.lemma_ for token in doc \n",
    "              if not token.is_stop and not token.is_punct and len(token.text) > 1]\n",
    "    return ' '.join(tokens)\n",
    "\n",
    "df['processed_text'] = df['cleaned_text'].apply(process_text)"
   ]
  },
  {
   "cell_type": "code",
   "execution_count": 8,
   "metadata": {
    "_cell_guid": "76437849-8616-45c9-98ab-836cc1cdf0c0",
    "_uuid": "db20cf97-60ed-4b16-a4c6-1b015c94ab75",
    "collapsed": false,
    "execution": {
     "iopub.execute_input": "2025-06-27T13:06:22.876112Z",
     "iopub.status.busy": "2025-06-27T13:06:22.875784Z",
     "iopub.status.idle": "2025-06-27T13:06:22.887616Z",
     "shell.execute_reply": "2025-06-27T13:06:22.886862Z",
     "shell.execute_reply.started": "2025-06-27T13:06:22.876084Z"
    },
    "jupyter": {
     "outputs_hidden": false
    },
    "trusted": true
   },
   "outputs": [
    {
     "data": {
      "text/html": [
       "<div>\n",
       "<style scoped>\n",
       "    .dataframe tbody tr th:only-of-type {\n",
       "        vertical-align: middle;\n",
       "    }\n",
       "\n",
       "    .dataframe tbody tr th {\n",
       "        vertical-align: top;\n",
       "    }\n",
       "\n",
       "    .dataframe thead th {\n",
       "        text-align: right;\n",
       "    }\n",
       "</style>\n",
       "<table border=\"1\" class=\"dataframe\">\n",
       "  <thead>\n",
       "    <tr style=\"text-align: right;\">\n",
       "      <th></th>\n",
       "      <th>text</th>\n",
       "      <th>intent</th>\n",
       "      <th>cleaned_text</th>\n",
       "      <th>processed_text</th>\n",
       "    </tr>\n",
       "  </thead>\n",
       "  <tbody>\n",
       "    <tr>\n",
       "      <th>0</th>\n",
       "      <td>What are the reviews for the new iPhone?</td>\n",
       "      <td>web_search</td>\n",
       "      <td>what are the reviews for the new iphone</td>\n",
       "      <td>review new iphone</td>\n",
       "    </tr>\n",
       "    <tr>\n",
       "      <th>1</th>\n",
       "      <td>What are the expectations for employee conduct...</td>\n",
       "      <td>knowledge_query</td>\n",
       "      <td>what are the expectations for employee conduct...</td>\n",
       "      <td>expectation employee conduct company sponsor e...</td>\n",
       "    </tr>\n",
       "    <tr>\n",
       "      <th>2</th>\n",
       "      <td>What are the company's core values and mission...</td>\n",
       "      <td>knowledge_query</td>\n",
       "      <td>what are the company s core values and mission...</td>\n",
       "      <td>company core value mission statement</td>\n",
       "    </tr>\n",
       "    <tr>\n",
       "      <th>3</th>\n",
       "      <td>What is the process for providing feedback or ...</td>\n",
       "      <td>knowledge_query</td>\n",
       "      <td>what is the process for providing feedback or ...</td>\n",
       "      <td>process provide feedback suggestion company po...</td>\n",
       "    </tr>\n",
       "    <tr>\n",
       "      <th>4</th>\n",
       "      <td>Look up the history of the Eiffel Tower</td>\n",
       "      <td>web_search</td>\n",
       "      <td>look up the history of the eiffel tower</td>\n",
       "      <td>look history eiffel tower</td>\n",
       "    </tr>\n",
       "    <tr>\n",
       "      <th>...</th>\n",
       "      <td>...</td>\n",
       "      <td>...</td>\n",
       "      <td>...</td>\n",
       "      <td>...</td>\n",
       "    </tr>\n",
       "    <tr>\n",
       "      <th>995</th>\n",
       "      <td>Can you email the meeting minutes to the board...</td>\n",
       "      <td>email_send</td>\n",
       "      <td>can you email the meeting minutes to the board...</td>\n",
       "      <td>email meeting minute board director</td>\n",
       "    </tr>\n",
       "    <tr>\n",
       "      <th>996</th>\n",
       "      <td>I need to book a meeting with the research tea...</td>\n",
       "      <td>calendar_schedule</td>\n",
       "      <td>i need to book a meeting with the research tea...</td>\n",
       "      <td>need book meeting research team discuss recent...</td>\n",
       "    </tr>\n",
       "    <tr>\n",
       "      <th>997</th>\n",
       "      <td>How was your experience at the concert last ni...</td>\n",
       "      <td>general_chat</td>\n",
       "      <td>how was your experience at the concert last night</td>\n",
       "      <td>experience concert night</td>\n",
       "    </tr>\n",
       "    <tr>\n",
       "      <th>998</th>\n",
       "      <td>What are the business hours for the local libr...</td>\n",
       "      <td>web_search</td>\n",
       "      <td>what are the business hours for the local library</td>\n",
       "      <td>business hour local library</td>\n",
       "    </tr>\n",
       "    <tr>\n",
       "      <th>999</th>\n",
       "      <td>Can you send a reminder email to the attendees...</td>\n",
       "      <td>email_send</td>\n",
       "      <td>can you send a reminder email to the attendees...</td>\n",
       "      <td>send reminder email attendee deadline</td>\n",
       "    </tr>\n",
       "  </tbody>\n",
       "</table>\n",
       "<p>1000 rows × 4 columns</p>\n",
       "</div>"
      ],
      "text/plain": [
       "                                                  text             intent  \\\n",
       "0             What are the reviews for the new iPhone?         web_search   \n",
       "1    What are the expectations for employee conduct...    knowledge_query   \n",
       "2    What are the company's core values and mission...    knowledge_query   \n",
       "3    What is the process for providing feedback or ...    knowledge_query   \n",
       "4              Look up the history of the Eiffel Tower         web_search   \n",
       "..                                                 ...                ...   \n",
       "995  Can you email the meeting minutes to the board...         email_send   \n",
       "996  I need to book a meeting with the research tea...  calendar_schedule   \n",
       "997  How was your experience at the concert last ni...       general_chat   \n",
       "998  What are the business hours for the local libr...         web_search   \n",
       "999  Can you send a reminder email to the attendees...         email_send   \n",
       "\n",
       "                                          cleaned_text  \\\n",
       "0              what are the reviews for the new iphone   \n",
       "1    what are the expectations for employee conduct...   \n",
       "2    what are the company s core values and mission...   \n",
       "3    what is the process for providing feedback or ...   \n",
       "4              look up the history of the eiffel tower   \n",
       "..                                                 ...   \n",
       "995  can you email the meeting minutes to the board...   \n",
       "996  i need to book a meeting with the research tea...   \n",
       "997  how was your experience at the concert last night   \n",
       "998  what are the business hours for the local library   \n",
       "999  can you send a reminder email to the attendees...   \n",
       "\n",
       "                                        processed_text  \n",
       "0                                    review new iphone  \n",
       "1    expectation employee conduct company sponsor e...  \n",
       "2                 company core value mission statement  \n",
       "3    process provide feedback suggestion company po...  \n",
       "4                            look history eiffel tower  \n",
       "..                                                 ...  \n",
       "995                email meeting minute board director  \n",
       "996  need book meeting research team discuss recent...  \n",
       "997                           experience concert night  \n",
       "998                        business hour local library  \n",
       "999              send reminder email attendee deadline  \n",
       "\n",
       "[1000 rows x 4 columns]"
      ]
     },
     "execution_count": 8,
     "metadata": {},
     "output_type": "execute_result"
    }
   ],
   "source": [
    "df"
   ]
  },
  {
   "cell_type": "markdown",
   "metadata": {
    "_cell_guid": "61059570-ccce-40ba-af91-30533558b31d",
    "_uuid": "04107814-8d07-42f0-9606-f45d1eb21082",
    "collapsed": false,
    "jupyter": {
     "outputs_hidden": false
    },
    "trusted": true
   },
   "source": [
    "# Feature Engineering"
   ]
  },
  {
   "cell_type": "code",
   "execution_count": 9,
   "metadata": {
    "_cell_guid": "96e676a4-b27a-469c-8e0f-bf7bb2de05e4",
    "_uuid": "8883cbd2-495d-49cc-b441-9529210596c5",
    "collapsed": false,
    "execution": {
     "iopub.execute_input": "2025-06-27T13:06:22.888675Z",
     "iopub.status.busy": "2025-06-27T13:06:22.888366Z",
     "iopub.status.idle": "2025-06-27T13:06:22.925487Z",
     "shell.execute_reply": "2025-06-27T13:06:22.924497Z",
     "shell.execute_reply.started": "2025-06-27T13:06:22.888642Z"
    },
    "jupyter": {
     "outputs_hidden": false
    },
    "trusted": true
   },
   "outputs": [
    {
     "name": "stdout",
     "output_type": "stream",
     "text": [
      "TF-IDF shape: (1000, 1000)\n"
     ]
    }
   ],
   "source": [
    "# Create TF-IDF features\n",
    "tfidf = TfidfVectorizer(max_features = 1000, ngram_range=(1, 2))\n",
    "tfidf_features = tfidf.fit_transform(df['processed_text'])\n",
    "print(f\"TF-IDF shape: {tfidf_features.shape}\")"
   ]
  },
  {
   "cell_type": "code",
   "execution_count": 10,
   "metadata": {
    "_cell_guid": "84945c9f-f019-411e-a1c1-decb2b61c401",
    "_uuid": "8b92afe8-f821-4a28-94d1-10030c1bfab3",
    "collapsed": false,
    "execution": {
     "iopub.execute_input": "2025-06-27T13:06:22.927873Z",
     "iopub.status.busy": "2025-06-27T13:06:22.927596Z",
     "iopub.status.idle": "2025-06-27T13:06:22.937741Z",
     "shell.execute_reply": "2025-06-27T13:06:22.936629Z",
     "shell.execute_reply.started": "2025-06-27T13:06:22.927853Z"
    },
    "jupyter": {
     "outputs_hidden": false
    },
    "trusted": true
   },
   "outputs": [
    {
     "name": "stdout",
     "output_type": "stream",
     "text": [
      "Keyword features shape: (1000, 5)\n"
     ]
    }
   ],
   "source": [
    "# Create keyword features\n",
    "keywords = [\"email\", \"schedule\", \"find\", \"what\", \"how\"]\n",
    "keyword_features = np.zeros((len(df), len(keywords)))\n",
    "\n",
    "for i, text in enumerate(df['text']):\n",
    "    text_lower = str(text).lower()\n",
    "    for j, keyword in enumerate(keywords):\n",
    "        keyword_features[i, j] = 1 if keyword in text_lower else 0\n",
    "\n",
    "print(f\"Keyword features shape: {keyword_features.shape}\")"
   ]
  },
  {
   "cell_type": "code",
   "execution_count": 11,
   "metadata": {
    "_cell_guid": "3b0dadf8-5659-439f-9987-01d7461a91b1",
    "_uuid": "09fc72f0-4ff1-4f3d-80c9-bfbd54fce7c1",
    "collapsed": false,
    "execution": {
     "iopub.execute_input": "2025-06-27T13:06:22.938968Z",
     "iopub.status.busy": "2025-06-27T13:06:22.938705Z",
     "iopub.status.idle": "2025-06-27T13:06:22.963664Z",
     "shell.execute_reply": "2025-06-27T13:06:22.962637Z",
     "shell.execute_reply.started": "2025-06-27T13:06:22.938946Z"
    },
    "jupyter": {
     "outputs_hidden": false
    },
    "trusted": true
   },
   "outputs": [
    {
     "name": "stdout",
     "output_type": "stream",
     "text": [
      "Combined features shape: (1000, 1005)\n"
     ]
    }
   ],
   "source": [
    "# Combine features\n",
    "X = hstack([tfidf_features, csr_matrix(keyword_features)])\n",
    "print(f\"Combined features shape: {X.shape}\")"
   ]
  },
  {
   "cell_type": "code",
   "execution_count": 12,
   "metadata": {
    "_cell_guid": "09dc1374-3c66-4ed9-ae34-a0cc836a76d5",
    "_uuid": "d49c38c6-e911-4272-8839-71093a073845",
    "collapsed": false,
    "execution": {
     "iopub.execute_input": "2025-06-27T13:06:22.965082Z",
     "iopub.status.busy": "2025-06-27T13:06:22.964839Z",
     "iopub.status.idle": "2025-06-27T13:06:22.983031Z",
     "shell.execute_reply": "2025-06-27T13:06:22.982104Z",
     "shell.execute_reply.started": "2025-06-27T13:06:22.965063Z"
    },
    "jupyter": {
     "outputs_hidden": false
    },
    "trusted": true
   },
   "outputs": [
    {
     "name": "stdout",
     "output_type": "stream",
     "text": [
      "Label mapping: {'calendar_schedule': 0, 'email_send': 1, 'general_chat': 2, 'knowledge_query': 3, 'web_search': 4}\n"
     ]
    }
   ],
   "source": [
    "# Encode labels\n",
    "label_encoder = LabelEncoder()\n",
    "y = label_encoder.fit_transform(df['intent'])\n",
    "print(f\"Label mapping: {dict(zip(label_encoder.classes_, range(len(label_encoder.classes_))))}\")"
   ]
  },
  {
   "cell_type": "code",
   "execution_count": 13,
   "metadata": {
    "_cell_guid": "5e1d2352-3beb-4672-af89-b6d46086ec06",
    "_uuid": "6600db86-72f8-4c5f-a0cc-835e08d0a26f",
    "collapsed": false,
    "execution": {
     "iopub.execute_input": "2025-06-27T13:06:22.984295Z",
     "iopub.status.busy": "2025-06-27T13:06:22.983970Z",
     "iopub.status.idle": "2025-06-27T13:06:23.005215Z",
     "shell.execute_reply": "2025-06-27T13:06:23.003972Z",
     "shell.execute_reply.started": "2025-06-27T13:06:22.984273Z"
    },
    "jupyter": {
     "outputs_hidden": false
    },
    "trusted": true
   },
   "outputs": [
    {
     "name": "stdout",
     "output_type": "stream",
     "text": [
      "Train: (800, 1005), Val: (200, 1005)\n"
     ]
    }
   ],
   "source": [
    "# Train-test split\n",
    "X_train, X_test, y_train, y_test = train_test_split(\n",
    "    X, y, test_size = 0.2, random_state=42, stratify=y\n",
    ")\n",
    "print(f\"Train: {X_train.shape}, Val: {X_test.shape}\")\n",
    "\n",
    "# Store original texts for later analysis (placeholder version)\n",
    "test_indices = []\n",
    "X_test_texts = []\n",
    "\n",
    "for i in range(X_test.shape[0]): \n",
    "    X_test_texts.append(f\"Test sample {i}\")"
   ]
  },
  {
   "cell_type": "markdown",
   "metadata": {
    "_cell_guid": "c2b3d54e-a0e9-4192-befa-8577fd991824",
    "_uuid": "5d4ddeaa-06a5-45d4-90b7-a8ae98ab4b47",
    "collapsed": false,
    "jupyter": {
     "outputs_hidden": false
    },
    "trusted": true
   },
   "source": [
    "# Model training with cross-validation"
   ]
  },
  {
   "cell_type": "code",
   "execution_count": 14,
   "metadata": {
    "_cell_guid": "cf52042f-a037-463f-852f-cc8b8cfdb456",
    "_uuid": "4132b7cd-37f9-4cd8-b04c-616720026234",
    "collapsed": false,
    "execution": {
     "iopub.execute_input": "2025-06-27T13:06:23.006294Z",
     "iopub.status.busy": "2025-06-27T13:06:23.006025Z",
     "iopub.status.idle": "2025-06-27T13:06:23.021633Z",
     "shell.execute_reply": "2025-06-27T13:06:23.020655Z",
     "shell.execute_reply.started": "2025-06-27T13:06:23.006272Z"
    },
    "jupyter": {
     "outputs_hidden": false
    },
    "trusted": true
   },
   "outputs": [],
   "source": [
    "cv = StratifiedKFold(n_splits = 5, shuffle = True, random_state = 42)"
   ]
  },
  {
   "cell_type": "markdown",
   "metadata": {
    "_cell_guid": "c9b21d7a-af0e-42dd-b424-9f65052c299d",
    "_uuid": "0261fddf-bb31-464d-9199-fbbbac097dda",
    "collapsed": false,
    "jupyter": {
     "outputs_hidden": false
    },
    "trusted": true
   },
   "source": [
    "# Naive Bayes"
   ]
  },
  {
   "cell_type": "code",
   "execution_count": 15,
   "metadata": {
    "_cell_guid": "b4516dff-c9e8-45a3-8829-ceb20279e729",
    "_uuid": "13b35d88-4e55-45a8-bbfe-70042731b038",
    "collapsed": false,
    "execution": {
     "iopub.execute_input": "2025-06-27T13:06:23.022960Z",
     "iopub.status.busy": "2025-06-27T13:06:23.022667Z",
     "iopub.status.idle": "2025-06-27T13:06:24.327739Z",
     "shell.execute_reply": "2025-06-27T13:06:24.326810Z",
     "shell.execute_reply.started": "2025-06-27T13:06:23.022940Z"
    },
    "jupyter": {
     "outputs_hidden": false
    },
    "trusted": true
   },
   "outputs": [],
   "source": [
    "# Define model and hyperparameter grid\n",
    "nb_model = MultinomialNB()\n",
    "nb_param_grid = {\n",
    "    'alpha': [0.1, 1.0, 10.0]\n",
    "}\n",
    "\n",
    "# Grid search\n",
    "nb_grid = GridSearchCV(\n",
    "    estimator=nb_model,\n",
    "    param_grid=nb_param_grid,\n",
    "    cv=cv,\n",
    "    scoring='accuracy',\n",
    "    refit=True,\n",
    "    n_jobs=-1\n",
    ")\n",
    "nb_grid.fit(X_train, y_train)\n",
    "\n",
    "# Best estimator & predict\n",
    "best_nb = nb_grid.best_estimator_"
   ]
  },
  {
   "cell_type": "markdown",
   "metadata": {
    "_cell_guid": "50c7f1d0-bb70-40ed-b85e-3b1d254fe3e3",
    "_uuid": "de12afd6-f8a0-4387-a993-f942a2e1a6f0",
    "collapsed": false,
    "jupyter": {
     "outputs_hidden": false
    },
    "trusted": true
   },
   "source": [
    "# Logistic Regression"
   ]
  },
  {
   "cell_type": "code",
   "execution_count": 16,
   "metadata": {
    "_cell_guid": "95a07ce1-0168-4aae-b2e2-e8046ff88652",
    "_uuid": "c9b2f496-b436-4a87-b360-e350e34a8381",
    "collapsed": false,
    "execution": {
     "iopub.execute_input": "2025-06-27T13:06:24.330652Z",
     "iopub.status.busy": "2025-06-27T13:06:24.330344Z",
     "iopub.status.idle": "2025-06-27T13:06:25.004531Z",
     "shell.execute_reply": "2025-06-27T13:06:25.003827Z",
     "shell.execute_reply.started": "2025-06-27T13:06:24.330629Z"
    },
    "jupyter": {
     "outputs_hidden": false
    },
    "trusted": true
   },
   "outputs": [
    {
     "name": "stderr",
     "output_type": "stream",
     "text": [
      "c:\\Users\\ummed\\AppData\\Local\\Programs\\Python\\Python310\\lib\\site-packages\\sklearn\\linear_model\\_logistic.py:1264: FutureWarning: 'multi_class' was deprecated in version 1.5 and will be removed in 1.7. From then on, it will always use 'multinomial'. Leave it to its default value to avoid this warning.\n",
      "  warnings.warn(\n"
     ]
    }
   ],
   "source": [
    "lr_model = LogisticRegression(\n",
    "    solver='lbfgs',\n",
    "    multi_class='multinomial',\n",
    "    max_iter=1000\n",
    ")\n",
    "lr_param_grid = {\n",
    "    'C': [0.01, 0.1, 1.0, 10.0]\n",
    "}\n",
    "\n",
    "# Grid search\n",
    "lr_grid = GridSearchCV(\n",
    "    estimator=lr_model,\n",
    "    param_grid=lr_param_grid,\n",
    "    cv=cv,\n",
    "    scoring='accuracy',\n",
    "    refit=True,\n",
    "    n_jobs=-1\n",
    ")\n",
    "lr_grid.fit(X_train, y_train)\n",
    "\n",
    "# Best estimator & predict\n",
    "best_lr = lr_grid.best_estimator_"
   ]
  },
  {
   "cell_type": "markdown",
   "metadata": {
    "_cell_guid": "a7a6e314-7332-47c0-b5ef-5d7c968d4bcc",
    "_uuid": "1f658f66-3757-4b1e-bd71-35cefddfa82f",
    "collapsed": false,
    "jupyter": {
     "outputs_hidden": false
    },
    "trusted": true
   },
   "source": [
    "# RandomForest"
   ]
  },
  {
   "cell_type": "code",
   "execution_count": 17,
   "metadata": {
    "_cell_guid": "cc74f0a7-fa58-4ca5-acc7-ff8885143b76",
    "_uuid": "7e39a26c-728c-4256-95b7-26856bfa79d0",
    "collapsed": false,
    "execution": {
     "iopub.execute_input": "2025-06-27T13:06:25.005450Z",
     "iopub.status.busy": "2025-06-27T13:06:25.005195Z",
     "iopub.status.idle": "2025-06-27T13:06:46.277940Z",
     "shell.execute_reply": "2025-06-27T13:06:46.277089Z",
     "shell.execute_reply.started": "2025-06-27T13:06:25.005430Z"
    },
    "jupyter": {
     "outputs_hidden": false
    },
    "trusted": true
   },
   "outputs": [
    {
     "name": "stdout",
     "output_type": "stream",
     "text": [
      "Best RF parameters: {'max_depth': None, 'min_samples_leaf': 1, 'min_samples_split': 5, 'n_estimators': 200}\n"
     ]
    }
   ],
   "source": [
    "rf_model = RandomForestClassifier(random_state=42)\n",
    "rf_param_grid = {\n",
    "    'n_estimators': [50, 100, 200],\n",
    "    'max_depth': [10, 20, None],\n",
    "    'min_samples_split': [2, 5],\n",
    "    'min_samples_leaf': [1, 2]\n",
    "}\n",
    "\n",
    "# Grid search\n",
    "rf_grid = GridSearchCV(\n",
    "    estimator=rf_model,\n",
    "    param_grid=rf_param_grid,\n",
    "    cv=cv,\n",
    "    scoring='accuracy',\n",
    "    refit=True,\n",
    "    n_jobs=-1\n",
    ")\n",
    "rf_grid.fit(X_train, y_train)\n",
    "\n",
    "# Best estimator\n",
    "best_rf = rf_grid.best_estimator_\n",
    "print(f\"Best RF parameters: {rf_grid.best_params_}\")"
   ]
  },
  {
   "cell_type": "markdown",
   "metadata": {
    "_cell_guid": "4b8ddc8b-f544-463f-8647-840892f76b99",
    "_uuid": "ea0e6e55-4f04-4ffe-8d7c-0689fe34c617",
    "collapsed": false,
    "jupyter": {
     "outputs_hidden": false
    },
    "trusted": true
   },
   "source": [
    "# Ensemble Model"
   ]
  },
  {
   "cell_type": "code",
   "execution_count": 18,
   "metadata": {
    "_cell_guid": "9d6e8105-af49-4579-8739-bdb1f7095785",
    "_uuid": "318f93f3-186c-49df-8bdc-e2b505e13a87",
    "collapsed": false,
    "execution": {
     "iopub.execute_input": "2025-06-27T13:06:46.279117Z",
     "iopub.status.busy": "2025-06-27T13:06:46.278812Z",
     "iopub.status.idle": "2025-06-27T13:06:47.154674Z",
     "shell.execute_reply": "2025-06-27T13:06:47.153798Z",
     "shell.execute_reply.started": "2025-06-27T13:06:46.279091Z"
    },
    "jupyter": {
     "outputs_hidden": false
    },
    "trusted": true
   },
   "outputs": [
    {
     "name": "stdout",
     "output_type": "stream",
     "text": [
      "\n",
      "Training ensemble model...\n"
     ]
    },
    {
     "name": "stderr",
     "output_type": "stream",
     "text": [
      "c:\\Users\\ummed\\AppData\\Local\\Programs\\Python\\Python310\\lib\\site-packages\\sklearn\\linear_model\\_logistic.py:1264: FutureWarning: 'multi_class' was deprecated in version 1.5 and will be removed in 1.7. From then on, it will always use 'multinomial'. Leave it to its default value to avoid this warning.\n",
      "  warnings.warn(\n"
     ]
    },
    {
     "data": {
      "text/html": [
       "<style>#sk-container-id-1 {\n",
       "  /* Definition of color scheme common for light and dark mode */\n",
       "  --sklearn-color-text: #000;\n",
       "  --sklearn-color-text-muted: #666;\n",
       "  --sklearn-color-line: gray;\n",
       "  /* Definition of color scheme for unfitted estimators */\n",
       "  --sklearn-color-unfitted-level-0: #fff5e6;\n",
       "  --sklearn-color-unfitted-level-1: #f6e4d2;\n",
       "  --sklearn-color-unfitted-level-2: #ffe0b3;\n",
       "  --sklearn-color-unfitted-level-3: chocolate;\n",
       "  /* Definition of color scheme for fitted estimators */\n",
       "  --sklearn-color-fitted-level-0: #f0f8ff;\n",
       "  --sklearn-color-fitted-level-1: #d4ebff;\n",
       "  --sklearn-color-fitted-level-2: #b3dbfd;\n",
       "  --sklearn-color-fitted-level-3: cornflowerblue;\n",
       "\n",
       "  /* Specific color for light theme */\n",
       "  --sklearn-color-text-on-default-background: var(--sg-text-color, var(--theme-code-foreground, var(--jp-content-font-color1, black)));\n",
       "  --sklearn-color-background: var(--sg-background-color, var(--theme-background, var(--jp-layout-color0, white)));\n",
       "  --sklearn-color-border-box: var(--sg-text-color, var(--theme-code-foreground, var(--jp-content-font-color1, black)));\n",
       "  --sklearn-color-icon: #696969;\n",
       "\n",
       "  @media (prefers-color-scheme: dark) {\n",
       "    /* Redefinition of color scheme for dark theme */\n",
       "    --sklearn-color-text-on-default-background: var(--sg-text-color, var(--theme-code-foreground, var(--jp-content-font-color1, white)));\n",
       "    --sklearn-color-background: var(--sg-background-color, var(--theme-background, var(--jp-layout-color0, #111)));\n",
       "    --sklearn-color-border-box: var(--sg-text-color, var(--theme-code-foreground, var(--jp-content-font-color1, white)));\n",
       "    --sklearn-color-icon: #878787;\n",
       "  }\n",
       "}\n",
       "\n",
       "#sk-container-id-1 {\n",
       "  color: var(--sklearn-color-text);\n",
       "}\n",
       "\n",
       "#sk-container-id-1 pre {\n",
       "  padding: 0;\n",
       "}\n",
       "\n",
       "#sk-container-id-1 input.sk-hidden--visually {\n",
       "  border: 0;\n",
       "  clip: rect(1px 1px 1px 1px);\n",
       "  clip: rect(1px, 1px, 1px, 1px);\n",
       "  height: 1px;\n",
       "  margin: -1px;\n",
       "  overflow: hidden;\n",
       "  padding: 0;\n",
       "  position: absolute;\n",
       "  width: 1px;\n",
       "}\n",
       "\n",
       "#sk-container-id-1 div.sk-dashed-wrapped {\n",
       "  border: 1px dashed var(--sklearn-color-line);\n",
       "  margin: 0 0.4em 0.5em 0.4em;\n",
       "  box-sizing: border-box;\n",
       "  padding-bottom: 0.4em;\n",
       "  background-color: var(--sklearn-color-background);\n",
       "}\n",
       "\n",
       "#sk-container-id-1 div.sk-container {\n",
       "  /* jupyter's `normalize.less` sets `[hidden] { display: none; }`\n",
       "     but bootstrap.min.css set `[hidden] { display: none !important; }`\n",
       "     so we also need the `!important` here to be able to override the\n",
       "     default hidden behavior on the sphinx rendered scikit-learn.org.\n",
       "     See: https://github.com/scikit-learn/scikit-learn/issues/21755 */\n",
       "  display: inline-block !important;\n",
       "  position: relative;\n",
       "}\n",
       "\n",
       "#sk-container-id-1 div.sk-text-repr-fallback {\n",
       "  display: none;\n",
       "}\n",
       "\n",
       "div.sk-parallel-item,\n",
       "div.sk-serial,\n",
       "div.sk-item {\n",
       "  /* draw centered vertical line to link estimators */\n",
       "  background-image: linear-gradient(var(--sklearn-color-text-on-default-background), var(--sklearn-color-text-on-default-background));\n",
       "  background-size: 2px 100%;\n",
       "  background-repeat: no-repeat;\n",
       "  background-position: center center;\n",
       "}\n",
       "\n",
       "/* Parallel-specific style estimator block */\n",
       "\n",
       "#sk-container-id-1 div.sk-parallel-item::after {\n",
       "  content: \"\";\n",
       "  width: 100%;\n",
       "  border-bottom: 2px solid var(--sklearn-color-text-on-default-background);\n",
       "  flex-grow: 1;\n",
       "}\n",
       "\n",
       "#sk-container-id-1 div.sk-parallel {\n",
       "  display: flex;\n",
       "  align-items: stretch;\n",
       "  justify-content: center;\n",
       "  background-color: var(--sklearn-color-background);\n",
       "  position: relative;\n",
       "}\n",
       "\n",
       "#sk-container-id-1 div.sk-parallel-item {\n",
       "  display: flex;\n",
       "  flex-direction: column;\n",
       "}\n",
       "\n",
       "#sk-container-id-1 div.sk-parallel-item:first-child::after {\n",
       "  align-self: flex-end;\n",
       "  width: 50%;\n",
       "}\n",
       "\n",
       "#sk-container-id-1 div.sk-parallel-item:last-child::after {\n",
       "  align-self: flex-start;\n",
       "  width: 50%;\n",
       "}\n",
       "\n",
       "#sk-container-id-1 div.sk-parallel-item:only-child::after {\n",
       "  width: 0;\n",
       "}\n",
       "\n",
       "/* Serial-specific style estimator block */\n",
       "\n",
       "#sk-container-id-1 div.sk-serial {\n",
       "  display: flex;\n",
       "  flex-direction: column;\n",
       "  align-items: center;\n",
       "  background-color: var(--sklearn-color-background);\n",
       "  padding-right: 1em;\n",
       "  padding-left: 1em;\n",
       "}\n",
       "\n",
       "\n",
       "/* Toggleable style: style used for estimator/Pipeline/ColumnTransformer box that is\n",
       "clickable and can be expanded/collapsed.\n",
       "- Pipeline and ColumnTransformer use this feature and define the default style\n",
       "- Estimators will overwrite some part of the style using the `sk-estimator` class\n",
       "*/\n",
       "\n",
       "/* Pipeline and ColumnTransformer style (default) */\n",
       "\n",
       "#sk-container-id-1 div.sk-toggleable {\n",
       "  /* Default theme specific background. It is overwritten whether we have a\n",
       "  specific estimator or a Pipeline/ColumnTransformer */\n",
       "  background-color: var(--sklearn-color-background);\n",
       "}\n",
       "\n",
       "/* Toggleable label */\n",
       "#sk-container-id-1 label.sk-toggleable__label {\n",
       "  cursor: pointer;\n",
       "  display: flex;\n",
       "  width: 100%;\n",
       "  margin-bottom: 0;\n",
       "  padding: 0.5em;\n",
       "  box-sizing: border-box;\n",
       "  text-align: center;\n",
       "  align-items: start;\n",
       "  justify-content: space-between;\n",
       "  gap: 0.5em;\n",
       "}\n",
       "\n",
       "#sk-container-id-1 label.sk-toggleable__label .caption {\n",
       "  font-size: 0.6rem;\n",
       "  font-weight: lighter;\n",
       "  color: var(--sklearn-color-text-muted);\n",
       "}\n",
       "\n",
       "#sk-container-id-1 label.sk-toggleable__label-arrow:before {\n",
       "  /* Arrow on the left of the label */\n",
       "  content: \"▸\";\n",
       "  float: left;\n",
       "  margin-right: 0.25em;\n",
       "  color: var(--sklearn-color-icon);\n",
       "}\n",
       "\n",
       "#sk-container-id-1 label.sk-toggleable__label-arrow:hover:before {\n",
       "  color: var(--sklearn-color-text);\n",
       "}\n",
       "\n",
       "/* Toggleable content - dropdown */\n",
       "\n",
       "#sk-container-id-1 div.sk-toggleable__content {\n",
       "  display: none;\n",
       "  text-align: left;\n",
       "  /* unfitted */\n",
       "  background-color: var(--sklearn-color-unfitted-level-0);\n",
       "}\n",
       "\n",
       "#sk-container-id-1 div.sk-toggleable__content.fitted {\n",
       "  /* fitted */\n",
       "  background-color: var(--sklearn-color-fitted-level-0);\n",
       "}\n",
       "\n",
       "#sk-container-id-1 div.sk-toggleable__content pre {\n",
       "  margin: 0.2em;\n",
       "  border-radius: 0.25em;\n",
       "  color: var(--sklearn-color-text);\n",
       "  /* unfitted */\n",
       "  background-color: var(--sklearn-color-unfitted-level-0);\n",
       "}\n",
       "\n",
       "#sk-container-id-1 div.sk-toggleable__content.fitted pre {\n",
       "  /* unfitted */\n",
       "  background-color: var(--sklearn-color-fitted-level-0);\n",
       "}\n",
       "\n",
       "#sk-container-id-1 input.sk-toggleable__control:checked~div.sk-toggleable__content {\n",
       "  /* Expand drop-down */\n",
       "  display: block;\n",
       "  width: 100%;\n",
       "  overflow: visible;\n",
       "}\n",
       "\n",
       "#sk-container-id-1 input.sk-toggleable__control:checked~label.sk-toggleable__label-arrow:before {\n",
       "  content: \"▾\";\n",
       "}\n",
       "\n",
       "/* Pipeline/ColumnTransformer-specific style */\n",
       "\n",
       "#sk-container-id-1 div.sk-label input.sk-toggleable__control:checked~label.sk-toggleable__label {\n",
       "  color: var(--sklearn-color-text);\n",
       "  background-color: var(--sklearn-color-unfitted-level-2);\n",
       "}\n",
       "\n",
       "#sk-container-id-1 div.sk-label.fitted input.sk-toggleable__control:checked~label.sk-toggleable__label {\n",
       "  background-color: var(--sklearn-color-fitted-level-2);\n",
       "}\n",
       "\n",
       "/* Estimator-specific style */\n",
       "\n",
       "/* Colorize estimator box */\n",
       "#sk-container-id-1 div.sk-estimator input.sk-toggleable__control:checked~label.sk-toggleable__label {\n",
       "  /* unfitted */\n",
       "  background-color: var(--sklearn-color-unfitted-level-2);\n",
       "}\n",
       "\n",
       "#sk-container-id-1 div.sk-estimator.fitted input.sk-toggleable__control:checked~label.sk-toggleable__label {\n",
       "  /* fitted */\n",
       "  background-color: var(--sklearn-color-fitted-level-2);\n",
       "}\n",
       "\n",
       "#sk-container-id-1 div.sk-label label.sk-toggleable__label,\n",
       "#sk-container-id-1 div.sk-label label {\n",
       "  /* The background is the default theme color */\n",
       "  color: var(--sklearn-color-text-on-default-background);\n",
       "}\n",
       "\n",
       "/* On hover, darken the color of the background */\n",
       "#sk-container-id-1 div.sk-label:hover label.sk-toggleable__label {\n",
       "  color: var(--sklearn-color-text);\n",
       "  background-color: var(--sklearn-color-unfitted-level-2);\n",
       "}\n",
       "\n",
       "/* Label box, darken color on hover, fitted */\n",
       "#sk-container-id-1 div.sk-label.fitted:hover label.sk-toggleable__label.fitted {\n",
       "  color: var(--sklearn-color-text);\n",
       "  background-color: var(--sklearn-color-fitted-level-2);\n",
       "}\n",
       "\n",
       "/* Estimator label */\n",
       "\n",
       "#sk-container-id-1 div.sk-label label {\n",
       "  font-family: monospace;\n",
       "  font-weight: bold;\n",
       "  display: inline-block;\n",
       "  line-height: 1.2em;\n",
       "}\n",
       "\n",
       "#sk-container-id-1 div.sk-label-container {\n",
       "  text-align: center;\n",
       "}\n",
       "\n",
       "/* Estimator-specific */\n",
       "#sk-container-id-1 div.sk-estimator {\n",
       "  font-family: monospace;\n",
       "  border: 1px dotted var(--sklearn-color-border-box);\n",
       "  border-radius: 0.25em;\n",
       "  box-sizing: border-box;\n",
       "  margin-bottom: 0.5em;\n",
       "  /* unfitted */\n",
       "  background-color: var(--sklearn-color-unfitted-level-0);\n",
       "}\n",
       "\n",
       "#sk-container-id-1 div.sk-estimator.fitted {\n",
       "  /* fitted */\n",
       "  background-color: var(--sklearn-color-fitted-level-0);\n",
       "}\n",
       "\n",
       "/* on hover */\n",
       "#sk-container-id-1 div.sk-estimator:hover {\n",
       "  /* unfitted */\n",
       "  background-color: var(--sklearn-color-unfitted-level-2);\n",
       "}\n",
       "\n",
       "#sk-container-id-1 div.sk-estimator.fitted:hover {\n",
       "  /* fitted */\n",
       "  background-color: var(--sklearn-color-fitted-level-2);\n",
       "}\n",
       "\n",
       "/* Specification for estimator info (e.g. \"i\" and \"?\") */\n",
       "\n",
       "/* Common style for \"i\" and \"?\" */\n",
       "\n",
       ".sk-estimator-doc-link,\n",
       "a:link.sk-estimator-doc-link,\n",
       "a:visited.sk-estimator-doc-link {\n",
       "  float: right;\n",
       "  font-size: smaller;\n",
       "  line-height: 1em;\n",
       "  font-family: monospace;\n",
       "  background-color: var(--sklearn-color-background);\n",
       "  border-radius: 1em;\n",
       "  height: 1em;\n",
       "  width: 1em;\n",
       "  text-decoration: none !important;\n",
       "  margin-left: 0.5em;\n",
       "  text-align: center;\n",
       "  /* unfitted */\n",
       "  border: var(--sklearn-color-unfitted-level-1) 1pt solid;\n",
       "  color: var(--sklearn-color-unfitted-level-1);\n",
       "}\n",
       "\n",
       ".sk-estimator-doc-link.fitted,\n",
       "a:link.sk-estimator-doc-link.fitted,\n",
       "a:visited.sk-estimator-doc-link.fitted {\n",
       "  /* fitted */\n",
       "  border: var(--sklearn-color-fitted-level-1) 1pt solid;\n",
       "  color: var(--sklearn-color-fitted-level-1);\n",
       "}\n",
       "\n",
       "/* On hover */\n",
       "div.sk-estimator:hover .sk-estimator-doc-link:hover,\n",
       ".sk-estimator-doc-link:hover,\n",
       "div.sk-label-container:hover .sk-estimator-doc-link:hover,\n",
       ".sk-estimator-doc-link:hover {\n",
       "  /* unfitted */\n",
       "  background-color: var(--sklearn-color-unfitted-level-3);\n",
       "  color: var(--sklearn-color-background);\n",
       "  text-decoration: none;\n",
       "}\n",
       "\n",
       "div.sk-estimator.fitted:hover .sk-estimator-doc-link.fitted:hover,\n",
       ".sk-estimator-doc-link.fitted:hover,\n",
       "div.sk-label-container:hover .sk-estimator-doc-link.fitted:hover,\n",
       ".sk-estimator-doc-link.fitted:hover {\n",
       "  /* fitted */\n",
       "  background-color: var(--sklearn-color-fitted-level-3);\n",
       "  color: var(--sklearn-color-background);\n",
       "  text-decoration: none;\n",
       "}\n",
       "\n",
       "/* Span, style for the box shown on hovering the info icon */\n",
       ".sk-estimator-doc-link span {\n",
       "  display: none;\n",
       "  z-index: 9999;\n",
       "  position: relative;\n",
       "  font-weight: normal;\n",
       "  right: .2ex;\n",
       "  padding: .5ex;\n",
       "  margin: .5ex;\n",
       "  width: min-content;\n",
       "  min-width: 20ex;\n",
       "  max-width: 50ex;\n",
       "  color: var(--sklearn-color-text);\n",
       "  box-shadow: 2pt 2pt 4pt #999;\n",
       "  /* unfitted */\n",
       "  background: var(--sklearn-color-unfitted-level-0);\n",
       "  border: .5pt solid var(--sklearn-color-unfitted-level-3);\n",
       "}\n",
       "\n",
       ".sk-estimator-doc-link.fitted span {\n",
       "  /* fitted */\n",
       "  background: var(--sklearn-color-fitted-level-0);\n",
       "  border: var(--sklearn-color-fitted-level-3);\n",
       "}\n",
       "\n",
       ".sk-estimator-doc-link:hover span {\n",
       "  display: block;\n",
       "}\n",
       "\n",
       "/* \"?\"-specific style due to the `<a>` HTML tag */\n",
       "\n",
       "#sk-container-id-1 a.estimator_doc_link {\n",
       "  float: right;\n",
       "  font-size: 1rem;\n",
       "  line-height: 1em;\n",
       "  font-family: monospace;\n",
       "  background-color: var(--sklearn-color-background);\n",
       "  border-radius: 1rem;\n",
       "  height: 1rem;\n",
       "  width: 1rem;\n",
       "  text-decoration: none;\n",
       "  /* unfitted */\n",
       "  color: var(--sklearn-color-unfitted-level-1);\n",
       "  border: var(--sklearn-color-unfitted-level-1) 1pt solid;\n",
       "}\n",
       "\n",
       "#sk-container-id-1 a.estimator_doc_link.fitted {\n",
       "  /* fitted */\n",
       "  border: var(--sklearn-color-fitted-level-1) 1pt solid;\n",
       "  color: var(--sklearn-color-fitted-level-1);\n",
       "}\n",
       "\n",
       "/* On hover */\n",
       "#sk-container-id-1 a.estimator_doc_link:hover {\n",
       "  /* unfitted */\n",
       "  background-color: var(--sklearn-color-unfitted-level-3);\n",
       "  color: var(--sklearn-color-background);\n",
       "  text-decoration: none;\n",
       "}\n",
       "\n",
       "#sk-container-id-1 a.estimator_doc_link.fitted:hover {\n",
       "  /* fitted */\n",
       "  background-color: var(--sklearn-color-fitted-level-3);\n",
       "}\n",
       "\n",
       ".estimator-table summary {\n",
       "    padding: .5rem;\n",
       "    font-family: monospace;\n",
       "    cursor: pointer;\n",
       "}\n",
       "\n",
       ".estimator-table details[open] {\n",
       "    padding-left: 0.1rem;\n",
       "    padding-right: 0.1rem;\n",
       "    padding-bottom: 0.3rem;\n",
       "}\n",
       "\n",
       ".estimator-table .parameters-table {\n",
       "    margin-left: auto !important;\n",
       "    margin-right: auto !important;\n",
       "}\n",
       "\n",
       ".estimator-table .parameters-table tr:nth-child(odd) {\n",
       "    background-color: #fff;\n",
       "}\n",
       "\n",
       ".estimator-table .parameters-table tr:nth-child(even) {\n",
       "    background-color: #f6f6f6;\n",
       "}\n",
       "\n",
       ".estimator-table .parameters-table tr:hover {\n",
       "    background-color: #e0e0e0;\n",
       "}\n",
       "\n",
       ".estimator-table table td {\n",
       "    border: 1px solid rgba(106, 105, 104, 0.232);\n",
       "}\n",
       "\n",
       ".user-set td {\n",
       "    color:rgb(255, 94, 0);\n",
       "    text-align: left;\n",
       "}\n",
       "\n",
       ".user-set td.value pre {\n",
       "    color:rgb(255, 94, 0) !important;\n",
       "    background-color: transparent !important;\n",
       "}\n",
       "\n",
       ".default td {\n",
       "    color: black;\n",
       "    text-align: left;\n",
       "}\n",
       "\n",
       ".user-set td i,\n",
       ".default td i {\n",
       "    color: black;\n",
       "}\n",
       "\n",
       ".copy-paste-icon {\n",
       "    background-image: url(data:image/svg+xml;base64,PHN2ZyB4bWxucz0iaHR0cDovL3d3dy53My5vcmcvMjAwMC9zdmciIHZpZXdCb3g9IjAgMCA0NDggNTEyIj48IS0tIUZvbnQgQXdlc29tZSBGcmVlIDYuNy4yIGJ5IEBmb250YXdlc29tZSAtIGh0dHBzOi8vZm9udGF3ZXNvbWUuY29tIExpY2Vuc2UgLSBodHRwczovL2ZvbnRhd2Vzb21lLmNvbS9saWNlbnNlL2ZyZWUgQ29weXJpZ2h0IDIwMjUgRm9udGljb25zLCBJbmMuLS0+PHBhdGggZD0iTTIwOCAwTDMzMi4xIDBjMTIuNyAwIDI0LjkgNS4xIDMzLjkgMTQuMWw2Ny45IDY3LjljOSA5IDE0LjEgMjEuMiAxNC4xIDMzLjlMNDQ4IDMzNmMwIDI2LjUtMjEuNSA0OC00OCA0OGwtMTkyIDBjLTI2LjUgMC00OC0yMS41LTQ4LTQ4bDAtMjg4YzAtMjYuNSAyMS41LTQ4IDQ4LTQ4ek00OCAxMjhsODAgMCAwIDY0LTY0IDAgMCAyNTYgMTkyIDAgMC0zMiA2NCAwIDAgNDhjMCAyNi41LTIxLjUgNDgtNDggNDhMNDggNTEyYy0yNi41IDAtNDgtMjEuNS00OC00OEwwIDE3NmMwLTI2LjUgMjEuNS00OCA0OC00OHoiLz48L3N2Zz4=);\n",
       "    background-repeat: no-repeat;\n",
       "    background-size: 14px 14px;\n",
       "    background-position: 0;\n",
       "    display: inline-block;\n",
       "    width: 14px;\n",
       "    height: 14px;\n",
       "    cursor: pointer;\n",
       "}\n",
       "</style><body><div id=\"sk-container-id-1\" class=\"sk-top-container\"><div class=\"sk-text-repr-fallback\"><pre>VotingClassifier(estimators=[(&#x27;nb&#x27;, MultinomialNB(alpha=0.1)),\n",
       "                             (&#x27;lr&#x27;,\n",
       "                              LogisticRegression(C=10.0, max_iter=1000,\n",
       "                                                 multi_class=&#x27;multinomial&#x27;)),\n",
       "                             (&#x27;rf&#x27;,\n",
       "                              RandomForestClassifier(min_samples_split=5,\n",
       "                                                     n_estimators=200,\n",
       "                                                     random_state=42))],\n",
       "                 voting=&#x27;soft&#x27;)</pre><b>In a Jupyter environment, please rerun this cell to show the HTML representation or trust the notebook. <br />On GitHub, the HTML representation is unable to render, please try loading this page with nbviewer.org.</b></div><div class=\"sk-container\" hidden><div class=\"sk-item sk-dashed-wrapped\"><div class=\"sk-label-container\"><div class=\"sk-label fitted sk-toggleable\"><input class=\"sk-toggleable__control sk-hidden--visually\" id=\"sk-estimator-id-1\" type=\"checkbox\" ><label for=\"sk-estimator-id-1\" class=\"sk-toggleable__label fitted sk-toggleable__label-arrow\"><div><div>VotingClassifier</div></div><div><a class=\"sk-estimator-doc-link fitted\" rel=\"noreferrer\" target=\"_blank\" href=\"https://scikit-learn.org/1.7/modules/generated/sklearn.ensemble.VotingClassifier.html\">?<span>Documentation for VotingClassifier</span></a><span class=\"sk-estimator-doc-link fitted\">i<span>Fitted</span></span></div></label><div class=\"sk-toggleable__content fitted\" data-param-prefix=\"\">\n",
       "        <div class=\"estimator-table\">\n",
       "            <details>\n",
       "                <summary>Parameters</summary>\n",
       "                <table class=\"parameters-table\">\n",
       "                  <tbody>\n",
       "                    \n",
       "        <tr class=\"user-set\">\n",
       "            <td><i class=\"copy-paste-icon\"\n",
       "                 onclick=\"copyToClipboard('estimators',\n",
       "                          this.parentElement.nextElementSibling)\"\n",
       "            ></i></td>\n",
       "            <td class=\"param\">estimators&nbsp;</td>\n",
       "            <td class=\"value\">[(&#x27;nb&#x27;, ...), (&#x27;lr&#x27;, ...), ...]</td>\n",
       "        </tr>\n",
       "    \n",
       "\n",
       "        <tr class=\"user-set\">\n",
       "            <td><i class=\"copy-paste-icon\"\n",
       "                 onclick=\"copyToClipboard('voting',\n",
       "                          this.parentElement.nextElementSibling)\"\n",
       "            ></i></td>\n",
       "            <td class=\"param\">voting&nbsp;</td>\n",
       "            <td class=\"value\">&#x27;soft&#x27;</td>\n",
       "        </tr>\n",
       "    \n",
       "\n",
       "        <tr class=\"default\">\n",
       "            <td><i class=\"copy-paste-icon\"\n",
       "                 onclick=\"copyToClipboard('weights',\n",
       "                          this.parentElement.nextElementSibling)\"\n",
       "            ></i></td>\n",
       "            <td class=\"param\">weights&nbsp;</td>\n",
       "            <td class=\"value\">None</td>\n",
       "        </tr>\n",
       "    \n",
       "\n",
       "        <tr class=\"default\">\n",
       "            <td><i class=\"copy-paste-icon\"\n",
       "                 onclick=\"copyToClipboard('n_jobs',\n",
       "                          this.parentElement.nextElementSibling)\"\n",
       "            ></i></td>\n",
       "            <td class=\"param\">n_jobs&nbsp;</td>\n",
       "            <td class=\"value\">None</td>\n",
       "        </tr>\n",
       "    \n",
       "\n",
       "        <tr class=\"default\">\n",
       "            <td><i class=\"copy-paste-icon\"\n",
       "                 onclick=\"copyToClipboard('flatten_transform',\n",
       "                          this.parentElement.nextElementSibling)\"\n",
       "            ></i></td>\n",
       "            <td class=\"param\">flatten_transform&nbsp;</td>\n",
       "            <td class=\"value\">True</td>\n",
       "        </tr>\n",
       "    \n",
       "\n",
       "        <tr class=\"default\">\n",
       "            <td><i class=\"copy-paste-icon\"\n",
       "                 onclick=\"copyToClipboard('verbose',\n",
       "                          this.parentElement.nextElementSibling)\"\n",
       "            ></i></td>\n",
       "            <td class=\"param\">verbose&nbsp;</td>\n",
       "            <td class=\"value\">False</td>\n",
       "        </tr>\n",
       "    \n",
       "                  </tbody>\n",
       "                </table>\n",
       "            </details>\n",
       "        </div>\n",
       "    </div></div></div><div class=\"sk-parallel\"><div class=\"sk-parallel-item\"><div class=\"sk-item\"><div class=\"sk-label-container\"><div class=\"sk-label fitted sk-toggleable\"><label>nb</label></div></div><div class=\"sk-serial\"><div class=\"sk-item\"><div class=\"sk-estimator fitted sk-toggleable\"><input class=\"sk-toggleable__control sk-hidden--visually\" id=\"sk-estimator-id-2\" type=\"checkbox\" ><label for=\"sk-estimator-id-2\" class=\"sk-toggleable__label fitted sk-toggleable__label-arrow\"><div><div>MultinomialNB</div></div><div><a class=\"sk-estimator-doc-link fitted\" rel=\"noreferrer\" target=\"_blank\" href=\"https://scikit-learn.org/1.7/modules/generated/sklearn.naive_bayes.MultinomialNB.html\">?<span>Documentation for MultinomialNB</span></a></div></label><div class=\"sk-toggleable__content fitted\" data-param-prefix=\"nb__\">\n",
       "        <div class=\"estimator-table\">\n",
       "            <details>\n",
       "                <summary>Parameters</summary>\n",
       "                <table class=\"parameters-table\">\n",
       "                  <tbody>\n",
       "                    \n",
       "        <tr class=\"user-set\">\n",
       "            <td><i class=\"copy-paste-icon\"\n",
       "                 onclick=\"copyToClipboard('alpha',\n",
       "                          this.parentElement.nextElementSibling)\"\n",
       "            ></i></td>\n",
       "            <td class=\"param\">alpha&nbsp;</td>\n",
       "            <td class=\"value\">0.1</td>\n",
       "        </tr>\n",
       "    \n",
       "\n",
       "        <tr class=\"default\">\n",
       "            <td><i class=\"copy-paste-icon\"\n",
       "                 onclick=\"copyToClipboard('force_alpha',\n",
       "                          this.parentElement.nextElementSibling)\"\n",
       "            ></i></td>\n",
       "            <td class=\"param\">force_alpha&nbsp;</td>\n",
       "            <td class=\"value\">True</td>\n",
       "        </tr>\n",
       "    \n",
       "\n",
       "        <tr class=\"default\">\n",
       "            <td><i class=\"copy-paste-icon\"\n",
       "                 onclick=\"copyToClipboard('fit_prior',\n",
       "                          this.parentElement.nextElementSibling)\"\n",
       "            ></i></td>\n",
       "            <td class=\"param\">fit_prior&nbsp;</td>\n",
       "            <td class=\"value\">True</td>\n",
       "        </tr>\n",
       "    \n",
       "\n",
       "        <tr class=\"default\">\n",
       "            <td><i class=\"copy-paste-icon\"\n",
       "                 onclick=\"copyToClipboard('class_prior',\n",
       "                          this.parentElement.nextElementSibling)\"\n",
       "            ></i></td>\n",
       "            <td class=\"param\">class_prior&nbsp;</td>\n",
       "            <td class=\"value\">None</td>\n",
       "        </tr>\n",
       "    \n",
       "                  </tbody>\n",
       "                </table>\n",
       "            </details>\n",
       "        </div>\n",
       "    </div></div></div></div></div></div><div class=\"sk-parallel-item\"><div class=\"sk-item\"><div class=\"sk-label-container\"><div class=\"sk-label fitted sk-toggleable\"><label>lr</label></div></div><div class=\"sk-serial\"><div class=\"sk-item\"><div class=\"sk-estimator fitted sk-toggleable\"><input class=\"sk-toggleable__control sk-hidden--visually\" id=\"sk-estimator-id-3\" type=\"checkbox\" ><label for=\"sk-estimator-id-3\" class=\"sk-toggleable__label fitted sk-toggleable__label-arrow\"><div><div>LogisticRegression</div></div><div><a class=\"sk-estimator-doc-link fitted\" rel=\"noreferrer\" target=\"_blank\" href=\"https://scikit-learn.org/1.7/modules/generated/sklearn.linear_model.LogisticRegression.html\">?<span>Documentation for LogisticRegression</span></a></div></label><div class=\"sk-toggleable__content fitted\" data-param-prefix=\"lr__\">\n",
       "        <div class=\"estimator-table\">\n",
       "            <details>\n",
       "                <summary>Parameters</summary>\n",
       "                <table class=\"parameters-table\">\n",
       "                  <tbody>\n",
       "                    \n",
       "        <tr class=\"default\">\n",
       "            <td><i class=\"copy-paste-icon\"\n",
       "                 onclick=\"copyToClipboard('penalty',\n",
       "                          this.parentElement.nextElementSibling)\"\n",
       "            ></i></td>\n",
       "            <td class=\"param\">penalty&nbsp;</td>\n",
       "            <td class=\"value\">&#x27;l2&#x27;</td>\n",
       "        </tr>\n",
       "    \n",
       "\n",
       "        <tr class=\"default\">\n",
       "            <td><i class=\"copy-paste-icon\"\n",
       "                 onclick=\"copyToClipboard('dual',\n",
       "                          this.parentElement.nextElementSibling)\"\n",
       "            ></i></td>\n",
       "            <td class=\"param\">dual&nbsp;</td>\n",
       "            <td class=\"value\">False</td>\n",
       "        </tr>\n",
       "    \n",
       "\n",
       "        <tr class=\"default\">\n",
       "            <td><i class=\"copy-paste-icon\"\n",
       "                 onclick=\"copyToClipboard('tol',\n",
       "                          this.parentElement.nextElementSibling)\"\n",
       "            ></i></td>\n",
       "            <td class=\"param\">tol&nbsp;</td>\n",
       "            <td class=\"value\">0.0001</td>\n",
       "        </tr>\n",
       "    \n",
       "\n",
       "        <tr class=\"user-set\">\n",
       "            <td><i class=\"copy-paste-icon\"\n",
       "                 onclick=\"copyToClipboard('C',\n",
       "                          this.parentElement.nextElementSibling)\"\n",
       "            ></i></td>\n",
       "            <td class=\"param\">C&nbsp;</td>\n",
       "            <td class=\"value\">10.0</td>\n",
       "        </tr>\n",
       "    \n",
       "\n",
       "        <tr class=\"default\">\n",
       "            <td><i class=\"copy-paste-icon\"\n",
       "                 onclick=\"copyToClipboard('fit_intercept',\n",
       "                          this.parentElement.nextElementSibling)\"\n",
       "            ></i></td>\n",
       "            <td class=\"param\">fit_intercept&nbsp;</td>\n",
       "            <td class=\"value\">True</td>\n",
       "        </tr>\n",
       "    \n",
       "\n",
       "        <tr class=\"default\">\n",
       "            <td><i class=\"copy-paste-icon\"\n",
       "                 onclick=\"copyToClipboard('intercept_scaling',\n",
       "                          this.parentElement.nextElementSibling)\"\n",
       "            ></i></td>\n",
       "            <td class=\"param\">intercept_scaling&nbsp;</td>\n",
       "            <td class=\"value\">1</td>\n",
       "        </tr>\n",
       "    \n",
       "\n",
       "        <tr class=\"default\">\n",
       "            <td><i class=\"copy-paste-icon\"\n",
       "                 onclick=\"copyToClipboard('class_weight',\n",
       "                          this.parentElement.nextElementSibling)\"\n",
       "            ></i></td>\n",
       "            <td class=\"param\">class_weight&nbsp;</td>\n",
       "            <td class=\"value\">None</td>\n",
       "        </tr>\n",
       "    \n",
       "\n",
       "        <tr class=\"default\">\n",
       "            <td><i class=\"copy-paste-icon\"\n",
       "                 onclick=\"copyToClipboard('random_state',\n",
       "                          this.parentElement.nextElementSibling)\"\n",
       "            ></i></td>\n",
       "            <td class=\"param\">random_state&nbsp;</td>\n",
       "            <td class=\"value\">None</td>\n",
       "        </tr>\n",
       "    \n",
       "\n",
       "        <tr class=\"default\">\n",
       "            <td><i class=\"copy-paste-icon\"\n",
       "                 onclick=\"copyToClipboard('solver',\n",
       "                          this.parentElement.nextElementSibling)\"\n",
       "            ></i></td>\n",
       "            <td class=\"param\">solver&nbsp;</td>\n",
       "            <td class=\"value\">&#x27;lbfgs&#x27;</td>\n",
       "        </tr>\n",
       "    \n",
       "\n",
       "        <tr class=\"user-set\">\n",
       "            <td><i class=\"copy-paste-icon\"\n",
       "                 onclick=\"copyToClipboard('max_iter',\n",
       "                          this.parentElement.nextElementSibling)\"\n",
       "            ></i></td>\n",
       "            <td class=\"param\">max_iter&nbsp;</td>\n",
       "            <td class=\"value\">1000</td>\n",
       "        </tr>\n",
       "    \n",
       "\n",
       "        <tr class=\"user-set\">\n",
       "            <td><i class=\"copy-paste-icon\"\n",
       "                 onclick=\"copyToClipboard('multi_class',\n",
       "                          this.parentElement.nextElementSibling)\"\n",
       "            ></i></td>\n",
       "            <td class=\"param\">multi_class&nbsp;</td>\n",
       "            <td class=\"value\">&#x27;multinomial&#x27;</td>\n",
       "        </tr>\n",
       "    \n",
       "\n",
       "        <tr class=\"default\">\n",
       "            <td><i class=\"copy-paste-icon\"\n",
       "                 onclick=\"copyToClipboard('verbose',\n",
       "                          this.parentElement.nextElementSibling)\"\n",
       "            ></i></td>\n",
       "            <td class=\"param\">verbose&nbsp;</td>\n",
       "            <td class=\"value\">0</td>\n",
       "        </tr>\n",
       "    \n",
       "\n",
       "        <tr class=\"default\">\n",
       "            <td><i class=\"copy-paste-icon\"\n",
       "                 onclick=\"copyToClipboard('warm_start',\n",
       "                          this.parentElement.nextElementSibling)\"\n",
       "            ></i></td>\n",
       "            <td class=\"param\">warm_start&nbsp;</td>\n",
       "            <td class=\"value\">False</td>\n",
       "        </tr>\n",
       "    \n",
       "\n",
       "        <tr class=\"default\">\n",
       "            <td><i class=\"copy-paste-icon\"\n",
       "                 onclick=\"copyToClipboard('n_jobs',\n",
       "                          this.parentElement.nextElementSibling)\"\n",
       "            ></i></td>\n",
       "            <td class=\"param\">n_jobs&nbsp;</td>\n",
       "            <td class=\"value\">None</td>\n",
       "        </tr>\n",
       "    \n",
       "\n",
       "        <tr class=\"default\">\n",
       "            <td><i class=\"copy-paste-icon\"\n",
       "                 onclick=\"copyToClipboard('l1_ratio',\n",
       "                          this.parentElement.nextElementSibling)\"\n",
       "            ></i></td>\n",
       "            <td class=\"param\">l1_ratio&nbsp;</td>\n",
       "            <td class=\"value\">None</td>\n",
       "        </tr>\n",
       "    \n",
       "                  </tbody>\n",
       "                </table>\n",
       "            </details>\n",
       "        </div>\n",
       "    </div></div></div></div></div></div><div class=\"sk-parallel-item\"><div class=\"sk-item\"><div class=\"sk-label-container\"><div class=\"sk-label fitted sk-toggleable\"><label>rf</label></div></div><div class=\"sk-serial\"><div class=\"sk-item\"><div class=\"sk-estimator fitted sk-toggleable\"><input class=\"sk-toggleable__control sk-hidden--visually\" id=\"sk-estimator-id-4\" type=\"checkbox\" ><label for=\"sk-estimator-id-4\" class=\"sk-toggleable__label fitted sk-toggleable__label-arrow\"><div><div>RandomForestClassifier</div></div><div><a class=\"sk-estimator-doc-link fitted\" rel=\"noreferrer\" target=\"_blank\" href=\"https://scikit-learn.org/1.7/modules/generated/sklearn.ensemble.RandomForestClassifier.html\">?<span>Documentation for RandomForestClassifier</span></a></div></label><div class=\"sk-toggleable__content fitted\" data-param-prefix=\"rf__\">\n",
       "        <div class=\"estimator-table\">\n",
       "            <details>\n",
       "                <summary>Parameters</summary>\n",
       "                <table class=\"parameters-table\">\n",
       "                  <tbody>\n",
       "                    \n",
       "        <tr class=\"user-set\">\n",
       "            <td><i class=\"copy-paste-icon\"\n",
       "                 onclick=\"copyToClipboard('n_estimators',\n",
       "                          this.parentElement.nextElementSibling)\"\n",
       "            ></i></td>\n",
       "            <td class=\"param\">n_estimators&nbsp;</td>\n",
       "            <td class=\"value\">200</td>\n",
       "        </tr>\n",
       "    \n",
       "\n",
       "        <tr class=\"default\">\n",
       "            <td><i class=\"copy-paste-icon\"\n",
       "                 onclick=\"copyToClipboard('criterion',\n",
       "                          this.parentElement.nextElementSibling)\"\n",
       "            ></i></td>\n",
       "            <td class=\"param\">criterion&nbsp;</td>\n",
       "            <td class=\"value\">&#x27;gini&#x27;</td>\n",
       "        </tr>\n",
       "    \n",
       "\n",
       "        <tr class=\"default\">\n",
       "            <td><i class=\"copy-paste-icon\"\n",
       "                 onclick=\"copyToClipboard('max_depth',\n",
       "                          this.parentElement.nextElementSibling)\"\n",
       "            ></i></td>\n",
       "            <td class=\"param\">max_depth&nbsp;</td>\n",
       "            <td class=\"value\">None</td>\n",
       "        </tr>\n",
       "    \n",
       "\n",
       "        <tr class=\"user-set\">\n",
       "            <td><i class=\"copy-paste-icon\"\n",
       "                 onclick=\"copyToClipboard('min_samples_split',\n",
       "                          this.parentElement.nextElementSibling)\"\n",
       "            ></i></td>\n",
       "            <td class=\"param\">min_samples_split&nbsp;</td>\n",
       "            <td class=\"value\">5</td>\n",
       "        </tr>\n",
       "    \n",
       "\n",
       "        <tr class=\"default\">\n",
       "            <td><i class=\"copy-paste-icon\"\n",
       "                 onclick=\"copyToClipboard('min_samples_leaf',\n",
       "                          this.parentElement.nextElementSibling)\"\n",
       "            ></i></td>\n",
       "            <td class=\"param\">min_samples_leaf&nbsp;</td>\n",
       "            <td class=\"value\">1</td>\n",
       "        </tr>\n",
       "    \n",
       "\n",
       "        <tr class=\"default\">\n",
       "            <td><i class=\"copy-paste-icon\"\n",
       "                 onclick=\"copyToClipboard('min_weight_fraction_leaf',\n",
       "                          this.parentElement.nextElementSibling)\"\n",
       "            ></i></td>\n",
       "            <td class=\"param\">min_weight_fraction_leaf&nbsp;</td>\n",
       "            <td class=\"value\">0.0</td>\n",
       "        </tr>\n",
       "    \n",
       "\n",
       "        <tr class=\"default\">\n",
       "            <td><i class=\"copy-paste-icon\"\n",
       "                 onclick=\"copyToClipboard('max_features',\n",
       "                          this.parentElement.nextElementSibling)\"\n",
       "            ></i></td>\n",
       "            <td class=\"param\">max_features&nbsp;</td>\n",
       "            <td class=\"value\">&#x27;sqrt&#x27;</td>\n",
       "        </tr>\n",
       "    \n",
       "\n",
       "        <tr class=\"default\">\n",
       "            <td><i class=\"copy-paste-icon\"\n",
       "                 onclick=\"copyToClipboard('max_leaf_nodes',\n",
       "                          this.parentElement.nextElementSibling)\"\n",
       "            ></i></td>\n",
       "            <td class=\"param\">max_leaf_nodes&nbsp;</td>\n",
       "            <td class=\"value\">None</td>\n",
       "        </tr>\n",
       "    \n",
       "\n",
       "        <tr class=\"default\">\n",
       "            <td><i class=\"copy-paste-icon\"\n",
       "                 onclick=\"copyToClipboard('min_impurity_decrease',\n",
       "                          this.parentElement.nextElementSibling)\"\n",
       "            ></i></td>\n",
       "            <td class=\"param\">min_impurity_decrease&nbsp;</td>\n",
       "            <td class=\"value\">0.0</td>\n",
       "        </tr>\n",
       "    \n",
       "\n",
       "        <tr class=\"default\">\n",
       "            <td><i class=\"copy-paste-icon\"\n",
       "                 onclick=\"copyToClipboard('bootstrap',\n",
       "                          this.parentElement.nextElementSibling)\"\n",
       "            ></i></td>\n",
       "            <td class=\"param\">bootstrap&nbsp;</td>\n",
       "            <td class=\"value\">True</td>\n",
       "        </tr>\n",
       "    \n",
       "\n",
       "        <tr class=\"default\">\n",
       "            <td><i class=\"copy-paste-icon\"\n",
       "                 onclick=\"copyToClipboard('oob_score',\n",
       "                          this.parentElement.nextElementSibling)\"\n",
       "            ></i></td>\n",
       "            <td class=\"param\">oob_score&nbsp;</td>\n",
       "            <td class=\"value\">False</td>\n",
       "        </tr>\n",
       "    \n",
       "\n",
       "        <tr class=\"default\">\n",
       "            <td><i class=\"copy-paste-icon\"\n",
       "                 onclick=\"copyToClipboard('n_jobs',\n",
       "                          this.parentElement.nextElementSibling)\"\n",
       "            ></i></td>\n",
       "            <td class=\"param\">n_jobs&nbsp;</td>\n",
       "            <td class=\"value\">None</td>\n",
       "        </tr>\n",
       "    \n",
       "\n",
       "        <tr class=\"user-set\">\n",
       "            <td><i class=\"copy-paste-icon\"\n",
       "                 onclick=\"copyToClipboard('random_state',\n",
       "                          this.parentElement.nextElementSibling)\"\n",
       "            ></i></td>\n",
       "            <td class=\"param\">random_state&nbsp;</td>\n",
       "            <td class=\"value\">42</td>\n",
       "        </tr>\n",
       "    \n",
       "\n",
       "        <tr class=\"default\">\n",
       "            <td><i class=\"copy-paste-icon\"\n",
       "                 onclick=\"copyToClipboard('verbose',\n",
       "                          this.parentElement.nextElementSibling)\"\n",
       "            ></i></td>\n",
       "            <td class=\"param\">verbose&nbsp;</td>\n",
       "            <td class=\"value\">0</td>\n",
       "        </tr>\n",
       "    \n",
       "\n",
       "        <tr class=\"default\">\n",
       "            <td><i class=\"copy-paste-icon\"\n",
       "                 onclick=\"copyToClipboard('warm_start',\n",
       "                          this.parentElement.nextElementSibling)\"\n",
       "            ></i></td>\n",
       "            <td class=\"param\">warm_start&nbsp;</td>\n",
       "            <td class=\"value\">False</td>\n",
       "        </tr>\n",
       "    \n",
       "\n",
       "        <tr class=\"default\">\n",
       "            <td><i class=\"copy-paste-icon\"\n",
       "                 onclick=\"copyToClipboard('class_weight',\n",
       "                          this.parentElement.nextElementSibling)\"\n",
       "            ></i></td>\n",
       "            <td class=\"param\">class_weight&nbsp;</td>\n",
       "            <td class=\"value\">None</td>\n",
       "        </tr>\n",
       "    \n",
       "\n",
       "        <tr class=\"default\">\n",
       "            <td><i class=\"copy-paste-icon\"\n",
       "                 onclick=\"copyToClipboard('ccp_alpha',\n",
       "                          this.parentElement.nextElementSibling)\"\n",
       "            ></i></td>\n",
       "            <td class=\"param\">ccp_alpha&nbsp;</td>\n",
       "            <td class=\"value\">0.0</td>\n",
       "        </tr>\n",
       "    \n",
       "\n",
       "        <tr class=\"default\">\n",
       "            <td><i class=\"copy-paste-icon\"\n",
       "                 onclick=\"copyToClipboard('max_samples',\n",
       "                          this.parentElement.nextElementSibling)\"\n",
       "            ></i></td>\n",
       "            <td class=\"param\">max_samples&nbsp;</td>\n",
       "            <td class=\"value\">None</td>\n",
       "        </tr>\n",
       "    \n",
       "\n",
       "        <tr class=\"default\">\n",
       "            <td><i class=\"copy-paste-icon\"\n",
       "                 onclick=\"copyToClipboard('monotonic_cst',\n",
       "                          this.parentElement.nextElementSibling)\"\n",
       "            ></i></td>\n",
       "            <td class=\"param\">monotonic_cst&nbsp;</td>\n",
       "            <td class=\"value\">None</td>\n",
       "        </tr>\n",
       "    \n",
       "                  </tbody>\n",
       "                </table>\n",
       "            </details>\n",
       "        </div>\n",
       "    </div></div></div></div></div></div></div></div></div></div><script>function copyToClipboard(text, element) {\n",
       "    // Get the parameter prefix from the closest toggleable content\n",
       "    const toggleableContent = element.closest('.sk-toggleable__content');\n",
       "    const paramPrefix = toggleableContent ? toggleableContent.dataset.paramPrefix : '';\n",
       "    const fullParamName = paramPrefix ? `${paramPrefix}${text}` : text;\n",
       "\n",
       "    const originalStyle = element.style;\n",
       "    const computedStyle = window.getComputedStyle(element);\n",
       "    const originalWidth = computedStyle.width;\n",
       "    const originalHTML = element.innerHTML.replace('Copied!', '');\n",
       "\n",
       "    navigator.clipboard.writeText(fullParamName)\n",
       "        .then(() => {\n",
       "            element.style.width = originalWidth;\n",
       "            element.style.color = 'green';\n",
       "            element.innerHTML = \"Copied!\";\n",
       "\n",
       "            setTimeout(() => {\n",
       "                element.innerHTML = originalHTML;\n",
       "                element.style = originalStyle;\n",
       "            }, 2000);\n",
       "        })\n",
       "        .catch(err => {\n",
       "            console.error('Failed to copy:', err);\n",
       "            element.style.color = 'red';\n",
       "            element.innerHTML = \"Failed!\";\n",
       "            setTimeout(() => {\n",
       "                element.innerHTML = originalHTML;\n",
       "                element.style = originalStyle;\n",
       "            }, 2000);\n",
       "        });\n",
       "    return false;\n",
       "}\n",
       "\n",
       "document.querySelectorAll('.fa-regular.fa-copy').forEach(function(element) {\n",
       "    const toggleableContent = element.closest('.sk-toggleable__content');\n",
       "    const paramPrefix = toggleableContent ? toggleableContent.dataset.paramPrefix : '';\n",
       "    const paramName = element.parentElement.nextElementSibling.textContent.trim();\n",
       "    const fullParamName = paramPrefix ? `${paramPrefix}${paramName}` : paramName;\n",
       "\n",
       "    element.setAttribute('title', fullParamName);\n",
       "});\n",
       "</script></body>"
      ],
      "text/plain": [
       "VotingClassifier(estimators=[('nb', MultinomialNB(alpha=0.1)),\n",
       "                             ('lr',\n",
       "                              LogisticRegression(C=10.0, max_iter=1000,\n",
       "                                                 multi_class='multinomial')),\n",
       "                             ('rf',\n",
       "                              RandomForestClassifier(min_samples_split=5,\n",
       "                                                     n_estimators=200,\n",
       "                                                     random_state=42))],\n",
       "                 voting='soft')"
      ]
     },
     "execution_count": 18,
     "metadata": {},
     "output_type": "execute_result"
    }
   ],
   "source": [
    "ensemble_model = VotingClassifier(\n",
    "    estimators=[\n",
    "        ('nb', best_nb),\n",
    "        ('lr', best_lr),\n",
    "        ('rf', best_rf)  # Added Random Forest\n",
    "    ],\n",
    "    voting='soft'  # Soft voting for probability predictions\n",
    ")\n",
    "\n",
    "# Train the ensemble model\n",
    "print(\"\\nTraining ensemble model...\")\n",
    "ensemble_model.fit(X_train, y_train)"
   ]
  },
  {
   "cell_type": "markdown",
   "metadata": {
    "_cell_guid": "6da9b562-83f9-40a9-8e13-696c192c74e2",
    "_uuid": "317740ba-4a85-4550-95f7-24e5328e43dc",
    "collapsed": false,
    "jupyter": {
     "outputs_hidden": false
    },
    "trusted": true
   },
   "source": [
    "# Evaluate Models"
   ]
  },
  {
   "cell_type": "code",
   "execution_count": 19,
   "metadata": {
    "_cell_guid": "e2e4ade8-3a78-4646-adbb-fa0292e8889c",
    "_uuid": "931335b3-60e6-4dec-9b6a-60478ada5cea",
    "collapsed": false,
    "execution": {
     "iopub.execute_input": "2025-06-27T13:06:47.156122Z",
     "iopub.status.busy": "2025-06-27T13:06:47.155791Z",
     "iopub.status.idle": "2025-06-27T13:06:47.173396Z",
     "shell.execute_reply": "2025-06-27T13:06:47.172588Z",
     "shell.execute_reply.started": "2025-06-27T13:06:47.156093Z"
    },
    "jupyter": {
     "outputs_hidden": false
    },
    "trusted": true
   },
   "outputs": [
    {
     "name": "stdout",
     "output_type": "stream",
     "text": [
      "Naive Bayes Performance:\n",
      "Accuracy: 0.9950\n",
      "F1 Score: 0.9950\n",
      "Classification Report:\n",
      "              precision    recall  f1-score   support\n",
      "\n",
      "           0       1.00      1.00      1.00        40\n",
      "           1       1.00      1.00      1.00        40\n",
      "           2       0.98      1.00      0.99        40\n",
      "           3       1.00      1.00      1.00        40\n",
      "           4       1.00      0.97      0.99        40\n",
      "\n",
      "    accuracy                           0.99       200\n",
      "   macro avg       1.00      0.99      0.99       200\n",
      "weighted avg       1.00      0.99      0.99       200\n",
      "\n"
     ]
    }
   ],
   "source": [
    "from sklearn.metrics import accuracy_score, f1_score, classification_report\n",
    "\n",
    "y_pred_nb = best_nb.predict(X_test)\n",
    "print(\"Naive Bayes Performance:\")\n",
    "print(f\"Accuracy: {accuracy_score(y_test, y_pred_nb):.4f}\")\n",
    "print(f\"F1 Score: {f1_score(y_test, y_pred_nb, average='weighted'):.4f}\")\n",
    "print(\"Classification Report:\")\n",
    "print(classification_report(y_test, y_pred_nb))"
   ]
  },
  {
   "cell_type": "code",
   "execution_count": 20,
   "metadata": {
    "_cell_guid": "4220dfd5-6066-46a4-bd84-fffdb9c84998",
    "_uuid": "2003c47c-590c-4c78-a9bb-d1cb0e1a7f91",
    "collapsed": false,
    "execution": {
     "iopub.execute_input": "2025-06-27T13:06:47.174913Z",
     "iopub.status.busy": "2025-06-27T13:06:47.174649Z",
     "iopub.status.idle": "2025-06-27T13:06:47.194707Z",
     "shell.execute_reply": "2025-06-27T13:06:47.193422Z",
     "shell.execute_reply.started": "2025-06-27T13:06:47.174892Z"
    },
    "jupyter": {
     "outputs_hidden": false
    },
    "trusted": true
   },
   "outputs": [
    {
     "name": "stdout",
     "output_type": "stream",
     "text": [
      "Logistic Regression Performance:\n",
      "Accuracy: 0.9900\n",
      "F1 Score: 0.9900\n",
      "Classification Report:\n",
      "              precision    recall  f1-score   support\n",
      "\n",
      "           0       1.00      1.00      1.00        40\n",
      "           1       1.00      1.00      1.00        40\n",
      "           2       0.95      1.00      0.98        40\n",
      "           3       1.00      1.00      1.00        40\n",
      "           4       1.00      0.95      0.97        40\n",
      "\n",
      "    accuracy                           0.99       200\n",
      "   macro avg       0.99      0.99      0.99       200\n",
      "weighted avg       0.99      0.99      0.99       200\n",
      "\n"
     ]
    }
   ],
   "source": [
    "y_pred_lr = best_lr.predict(X_test)\n",
    "print(\"Logistic Regression Performance:\")\n",
    "print(f\"Accuracy: {accuracy_score(y_test, y_pred_lr):.4f}\")\n",
    "print(f\"F1 Score: {f1_score(y_test, y_pred_lr, average='weighted'):.4f}\")\n",
    "print(\"Classification Report:\")\n",
    "print(classification_report(y_test, y_pred_lr))"
   ]
  },
  {
   "cell_type": "code",
   "execution_count": 21,
   "metadata": {
    "_cell_guid": "d31a6ce6-6519-45e9-a872-36ebf3424dbe",
    "_uuid": "247f51fc-aa2d-4d33-aea1-64f942a0d83b",
    "collapsed": false,
    "execution": {
     "iopub.execute_input": "2025-06-27T13:06:47.197222Z",
     "iopub.status.busy": "2025-06-27T13:06:47.196935Z",
     "iopub.status.idle": "2025-06-27T13:06:47.250550Z",
     "shell.execute_reply": "2025-06-27T13:06:47.249628Z",
     "shell.execute_reply.started": "2025-06-27T13:06:47.197200Z"
    },
    "jupyter": {
     "outputs_hidden": false
    },
    "trusted": true
   },
   "outputs": [
    {
     "name": "stdout",
     "output_type": "stream",
     "text": [
      "Random Forest Performance:\n",
      "Accuracy: 0.9750\n",
      "F1 Score: 0.9752\n",
      "Classification Report:\n",
      "                   precision    recall  f1-score   support\n",
      "\n",
      "calendar_schedule       1.00      1.00      1.00        40\n",
      "       email_send       1.00      1.00      1.00        40\n",
      "     general_chat       0.91      0.97      0.94        40\n",
      "  knowledge_query       1.00      0.95      0.97        40\n",
      "       web_search       0.97      0.95      0.96        40\n",
      "\n",
      "         accuracy                           0.97       200\n",
      "        macro avg       0.98      0.97      0.98       200\n",
      "     weighted avg       0.98      0.97      0.98       200\n",
      "\n"
     ]
    }
   ],
   "source": [
    "y_pred_rf = best_rf.predict(X_test)\n",
    "y_proba_rf = best_rf.predict_proba(X_test)\n",
    "\n",
    "print(\"Random Forest Performance:\")\n",
    "print(f\"Accuracy: {accuracy_score(y_test, y_pred_rf):.4f}\")\n",
    "print(f\"F1 Score: {f1_score(y_test, y_pred_rf, average='weighted'):.4f}\")\n",
    "print(\"Classification Report:\")\n",
    "print(classification_report(y_test, y_pred_rf, target_names=label_encoder.classes_))"
   ]
  },
  {
   "cell_type": "code",
   "execution_count": 22,
   "metadata": {
    "_cell_guid": "2c3e1aa5-c213-469b-8d1b-bbbba937bb55",
    "_uuid": "a28c6ce9-b73d-49d1-b906-8373ffa48c9b",
    "collapsed": false,
    "execution": {
     "iopub.execute_input": "2025-06-27T13:06:47.251708Z",
     "iopub.status.busy": "2025-06-27T13:06:47.251399Z",
     "iopub.status.idle": "2025-06-27T13:06:47.308952Z",
     "shell.execute_reply": "2025-06-27T13:06:47.307941Z",
     "shell.execute_reply.started": "2025-06-27T13:06:47.251678Z"
    },
    "jupyter": {
     "outputs_hidden": false
    },
    "trusted": true
   },
   "outputs": [
    {
     "name": "stdout",
     "output_type": "stream",
     "text": [
      "Enhanced Ensemble Model Performance (NB + LR + RF):\n",
      "Accuracy: 0.9950\n",
      "F1 Score: 0.9950\n",
      "Classification Report:\n",
      "                   precision    recall  f1-score   support\n",
      "\n",
      "calendar_schedule       1.00      1.00      1.00        40\n",
      "       email_send       1.00      1.00      1.00        40\n",
      "     general_chat       0.98      1.00      0.99        40\n",
      "  knowledge_query       1.00      1.00      1.00        40\n",
      "       web_search       1.00      0.97      0.99        40\n",
      "\n",
      "         accuracy                           0.99       200\n",
      "        macro avg       1.00      0.99      0.99       200\n",
      "     weighted avg       1.00      0.99      0.99       200\n",
      "\n"
     ]
    }
   ],
   "source": [
    "y_pred_ensemble = ensemble_model.predict(X_test)\n",
    "y_proba_ensemble = ensemble_model.predict_proba(X_test)\n",
    "\n",
    "print(\"Enhanced Ensemble Model Performance (NB + LR + RF):\")\n",
    "print(f\"Accuracy: {accuracy_score(y_test, y_pred_ensemble):.4f}\")\n",
    "print(f\"F1 Score: {f1_score(y_test, y_pred_ensemble, average='weighted'):.4f}\")\n",
    "print(\"Classification Report:\")\n",
    "print(classification_report(y_test, y_pred_ensemble, target_names=label_encoder.classes_))"
   ]
  },
  {
   "cell_type": "markdown",
   "metadata": {
    "_cell_guid": "a49d2d31-c48b-4941-81bc-65f9fb8290a6",
    "_uuid": "49c38343-d9c9-44a3-aaa5-2d48e87a090e",
    "collapsed": false,
    "jupyter": {
     "outputs_hidden": false
    },
    "trusted": true
   },
   "source": [
    "# Function to Test on Unseen Data"
   ]
  },
  {
   "cell_type": "code",
   "execution_count": 23,
   "metadata": {
    "_cell_guid": "4dbb0677-9bff-4edc-bb1b-136b48fb1693",
    "_uuid": "97d7f5c2-fbdc-4edb-a367-55b9ecdd5ac1",
    "collapsed": false,
    "execution": {
     "iopub.execute_input": "2025-06-27T13:06:47.310189Z",
     "iopub.status.busy": "2025-06-27T13:06:47.309934Z",
     "iopub.status.idle": "2025-06-27T13:06:47.318998Z",
     "shell.execute_reply": "2025-06-27T13:06:47.318002Z",
     "shell.execute_reply.started": "2025-06-27T13:06:47.310168Z"
    },
    "jupyter": {
     "outputs_hidden": false
    },
    "trusted": true
   },
   "outputs": [],
   "source": [
    "def predict_intent_with_confidence(text, model, vectorizer, label_enc, keyword_list):\n",
    "    \"\"\"\n",
    "    Predict intent for unseen text with confidence score\n",
    "    \"\"\"\n",
    "    # Preprocess text\n",
    "    cleaned = clean_text(text)\n",
    "    processed = process_text(cleaned)\n",
    "    \n",
    "    # Create TF-IDF features\n",
    "    tfidf_feat = vectorizer.transform([processed])\n",
    "    \n",
    "    # Create keyword features\n",
    "    keyword_feat = np.zeros((1, len(keyword_list)))\n",
    "    text_lower = text.lower()\n",
    "    for j, keyword in enumerate(keyword_list):\n",
    "        keyword_feat[0, j] = 1 if keyword in text_lower else 0\n",
    "    \n",
    "    # Combine features\n",
    "    combined_feat = hstack([tfidf_feat, csr_matrix(keyword_feat)])\n",
    "    \n",
    "    # Make prediction\n",
    "    prediction = model.predict(combined_feat)[0]\n",
    "    \n",
    "    # Get confidence score\n",
    "    if hasattr(model, 'predict_proba'):\n",
    "        probabilities = model.predict_proba(combined_feat)[0]\n",
    "        confidence = max(probabilities)\n",
    "        all_probs = dict(zip(label_enc.classes_, probabilities))\n",
    "    else:\n",
    "        # For SVM, use decision function\n",
    "        scores = model.decision_function(combined_feat)[0]\n",
    "        confidence = max(scores) if len(scores) > 1 else scores[0]\n",
    "        all_probs = dict(zip(label_enc.classes_, scores))\n",
    "    \n",
    "    predicted_intent = label_enc.inverse_transform([prediction])[0]\n",
    "    \n",
    "    return {\n",
    "        'text': text,\n",
    "        'predicted_intent': predicted_intent,\n",
    "        'confidence': confidence,\n",
    "        'all_probabilities': all_probs\n",
    "    }"
   ]
  },
  {
   "cell_type": "code",
   "execution_count": 24,
   "metadata": {
    "_cell_guid": "dd92dbd4-d796-499d-a285-3f28e0a1148f",
    "_uuid": "4d2ebd90-0b97-45ba-bb0a-a8ee46e84920",
    "collapsed": false,
    "execution": {
     "iopub.execute_input": "2025-06-27T13:06:47.320065Z",
     "iopub.status.busy": "2025-06-27T13:06:47.319826Z",
     "iopub.status.idle": "2025-06-27T13:06:47.508826Z",
     "shell.execute_reply": "2025-06-27T13:06:47.507593Z",
     "shell.execute_reply.started": "2025-06-27T13:06:47.320045Z"
    },
    "jupyter": {
     "outputs_hidden": false
    },
    "trusted": true
   },
   "outputs": [
    {
     "name": "stdout",
     "output_type": "stream",
     "text": [
      "Testing on Unseen Data:\n",
      "==================================================\n",
      "Text: Can you help me schedule a meeting for tomorrow?\n",
      "Predicted Intent: calendar_schedule\n",
      "Confidence: 0.9614\n",
      "Top 3 probabilities:\n",
      "  calendar_schedule: 0.9614\n",
      "  email_send: 0.0217\n",
      "  web_search: 0.0127\n",
      "--------------------------------------------------\n",
      "Text: What's the weather like today?\n",
      "Predicted Intent: general_chat\n",
      "Confidence: 0.7017\n",
      "Top 3 probabilities:\n",
      "  general_chat: 0.7017\n",
      "  web_search: 0.2835\n",
      "  knowledge_query: 0.0122\n",
      "--------------------------------------------------\n",
      "Text: Send an email to my manager\n",
      "Predicted Intent: email_send\n",
      "Confidence: 0.9996\n",
      "Top 3 probabilities:\n",
      "  email_send: 0.9996\n",
      "  web_search: 0.0001\n",
      "  general_chat: 0.0001\n",
      "--------------------------------------------------\n",
      "Text: Find restaurants near me\n",
      "Predicted Intent: web_search\n",
      "Confidence: 0.9835\n",
      "Top 3 probabilities:\n",
      "  web_search: 0.9835\n",
      "  knowledge_query: 0.0084\n",
      "  general_chat: 0.0072\n",
      "--------------------------------------------------\n",
      "Text: How do I reset my password?\n",
      "Predicted Intent: general_chat\n",
      "Confidence: 0.4130\n",
      "Top 3 probabilities:\n",
      "  general_chat: 0.4130\n",
      "  web_search: 0.3888\n",
      "  knowledge_query: 0.1935\n",
      "--------------------------------------------------\n"
     ]
    }
   ],
   "source": [
    "# Test on some unseen examples\n",
    "test_texts = [\n",
    "    \"Can you help me schedule a meeting for tomorrow?\",\n",
    "    \"What's the weather like today?\",\n",
    "    \"Send an email to my manager\",\n",
    "    \"Find restaurants near me\",\n",
    "    \"How do I reset my password?\"\n",
    "]\n",
    "\n",
    "print(\"Testing on Unseen Data:\")\n",
    "print(\"=\" * 50)\n",
    "\n",
    "for text in test_texts:\n",
    "    result = predict_intent_with_confidence(text, ensemble_model, tfidf, label_encoder, keywords)\n",
    "    print(f\"Text: {result['text']}\")\n",
    "    print(f\"Predicted Intent: {result['predicted_intent']}\")\n",
    "    print(f\"Confidence: {result['confidence']:.4f}\")\n",
    "    print(f\"Top 3 probabilities:\")\n",
    "    sorted_probs = sorted(result['all_probabilities'].items(), key=lambda x: x[1], reverse=True)\n",
    "    for intent, prob in sorted_probs[:3]:\n",
    "        print(f\"  {intent}: {prob:.4f}\")\n",
    "    print(\"-\" * 50)"
   ]
  },
  {
   "cell_type": "markdown",
   "metadata": {
    "_cell_guid": "757dfe19-a503-4c1a-80b1-dcaf0c3d4672",
    "_uuid": "7469b33e-eb5b-4f8f-82eb-6ec82103fdfe",
    "collapsed": false,
    "jupyter": {
     "outputs_hidden": false
    },
    "trusted": true
   },
   "source": [
    "# Comparsion of all the Models"
   ]
  },
  {
   "cell_type": "code",
   "execution_count": 25,
   "metadata": {
    "_cell_guid": "fa572696-4cdb-4aa2-93dc-920277f0ce55",
    "_uuid": "9d9b20a1-7a93-4607-a639-36813aa354ac",
    "collapsed": false,
    "execution": {
     "iopub.execute_input": "2025-06-27T13:06:47.510360Z",
     "iopub.status.busy": "2025-06-27T13:06:47.510080Z",
     "iopub.status.idle": "2025-06-27T13:06:47.525684Z",
     "shell.execute_reply": "2025-06-27T13:06:47.524665Z",
     "shell.execute_reply.started": "2025-06-27T13:06:47.510338Z"
    },
    "jupyter": {
     "outputs_hidden": false
    },
    "trusted": true
   },
   "outputs": [],
   "source": [
    "model_scores = {\n",
    "    \"Naive Bayes\": {\n",
    "        \"accuracy\": accuracy_score(y_test, y_pred_nb),\n",
    "        \"f1_score\":  f1_score(y_test, y_pred_nb, average='weighted')\n",
    "    },\n",
    "    \"Logistic Regression\": {\n",
    "        \"accuracy\": accuracy_score(y_test, y_pred_lr),\n",
    "        \"f1_score\":  f1_score(y_test, y_pred_lr, average='weighted')\n",
    "    },\n",
    "    \"Random Forest\": {\n",
    "        \"accuracy\": accuracy_score(y_test, y_pred_rf),\n",
    "        \"f1_score\":  f1_score(y_test, y_pred_rf, average='weighted')\n",
    "    },\n",
    "    \"Ensemble\": {\n",
    "        \"accuracy\": accuracy_score(y_test, y_pred_ensemble),\n",
    "        \"f1_score\":  f1_score(y_test, y_pred_ensemble, average='weighted')\n",
    "    }\n",
    "}"
   ]
  },
  {
   "cell_type": "code",
   "execution_count": 26,
   "metadata": {
    "_cell_guid": "cb6c13fb-94e0-45c8-a908-deed6e4f28fe",
    "_uuid": "17097ac3-f127-4252-ab9f-6615c88a8e96",
    "collapsed": false,
    "execution": {
     "iopub.execute_input": "2025-06-27T13:06:47.527027Z",
     "iopub.status.busy": "2025-06-27T13:06:47.526755Z",
     "iopub.status.idle": "2025-06-27T13:06:47.534227Z",
     "shell.execute_reply": "2025-06-27T13:06:47.532868Z",
     "shell.execute_reply.started": "2025-06-27T13:06:47.527005Z"
    },
    "jupyter": {
     "outputs_hidden": false
    },
    "trusted": true
   },
   "outputs": [
    {
     "name": "stdout",
     "output_type": "stream",
     "text": [
      "\n",
      "Model Performance Comparison:\n",
      "Model                Accuracy   F1 Score  \n",
      "---------------------------------------------\n",
      "Naive Bayes          0.9950     0.9950\n",
      "Logistic Regression  0.9900     0.9900\n",
      "Random Forest        0.9750     0.9752\n",
      "Ensemble             0.9950     0.9950\n"
     ]
    }
   ],
   "source": [
    "print(\"\\nModel Performance Comparison:\")\n",
    "print(f\"{'Model':<20} {'Accuracy':<10} {'F1 Score':<10}\")\n",
    "print(\"-\" * 45)\n",
    "for model, scores in model_scores.items():\n",
    "    print(f\"{model:<20} {scores['accuracy']:.4f}     {scores['f1_score']:.4f}\")"
   ]
  },
  {
   "cell_type": "markdown",
   "metadata": {
    "_cell_guid": "d5e9c341-14f4-4af1-8ffd-6037f4c50976",
    "_uuid": "6d801996-7692-49a5-82f1-3286012c4ad4",
    "collapsed": false,
    "jupyter": {
     "outputs_hidden": false
    },
    "trusted": true
   },
   "source": [
    "# Save the Best Model"
   ]
  },
  {
   "cell_type": "code",
   "execution_count": 27,
   "metadata": {
    "_cell_guid": "9d9657fe-7c23-4614-80a5-0de15a8611b0",
    "_uuid": "70173da7-66be-4399-9768-4fe2a5301965",
    "collapsed": false,
    "execution": {
     "iopub.execute_input": "2025-06-27T13:06:47.536148Z",
     "iopub.status.busy": "2025-06-27T13:06:47.535802Z",
     "iopub.status.idle": "2025-06-27T13:06:47.753393Z",
     "shell.execute_reply": "2025-06-27T13:06:47.752597Z",
     "shell.execute_reply.started": "2025-06-27T13:06:47.536120Z"
    },
    "jupyter": {
     "outputs_hidden": false
    },
    "trusted": true
   },
   "outputs": [
    {
     "name": "stdout",
     "output_type": "stream",
     "text": [
      "\n",
      "Model training completed and saved!\n"
     ]
    }
   ],
   "source": [
    "best_model = ensemble_model\n",
    "y_pred_best = best_model.predict(X_test)\n",
    "\n",
    "joblib.dump(best_model, 'intent_classifier.joblib')\n",
    "joblib.dump(tfidf, 'tfidf_vectorizer.joblib')\n",
    "joblib.dump(label_encoder, 'label_encoder.joblib')\n",
    "\n",
    "print(\"\\nModel training completed and saved!\")"
   ]
  },
  {
   "cell_type": "markdown",
   "metadata": {
    "_cell_guid": "c1701abf-654c-4e6c-96b0-878d35ebd4e6",
    "_uuid": "b0bd9153-74c5-4ea1-9f76-12d2fbe2c4f2",
    "collapsed": false,
    "jupyter": {
     "outputs_hidden": false
    },
    "trusted": true
   },
   "source": [
    "# Visualization and Error Analysis"
   ]
  },
  {
   "cell_type": "markdown",
   "metadata": {},
   "source": [
    "### Confusion Matrix"
   ]
  },
  {
   "cell_type": "code",
   "execution_count": 28,
   "metadata": {
    "execution": {
     "iopub.execute_input": "2025-06-27T13:10:04.635218Z",
     "iopub.status.busy": "2025-06-27T13:10:04.634886Z",
     "iopub.status.idle": "2025-06-27T13:10:04.992015Z",
     "shell.execute_reply": "2025-06-27T13:10:04.990912Z",
     "shell.execute_reply.started": "2025-06-27T13:10:04.635196Z"
    },
    "trusted": true
   },
   "outputs": [
    {
     "data": {
      "image/png": "[encoded data removed]",
      "text/plain": [
       "<Figure size 800x800 with 2 Axes>"
      ]
     },
     "metadata": {},
     "output_type": "display_data"
    }
   ],
   "source": [
    "model_name = \"Ensemble Model\"\n",
    "labels = label_encoder.classes_\n",
    "\n",
    "# Compute normalized confusion matrix\n",
    "cm = confusion_matrix(y_test, y_pred_ensemble)\n",
    "cm_norm = cm.astype('float') / cm.sum(axis=1)[:, np.newaxis]\n",
    "\n",
    "# Plot normalized confusion matrix\n",
    "plt.figure(figsize=(8, 8))\n",
    "sns.heatmap(cm_norm, annot=True, fmt='.2%', cmap='Oranges',\n",
    "            xticklabels=labels, yticklabels=labels, cbar_kws={'label': 'Percentage'})\n",
    "plt.title(f'{model_name} - Confusion Matrix (Normalized)', fontsize=14, fontweight='bold')\n",
    "plt.xlabel('Predicted Intent', fontsize=12)\n",
    "plt.ylabel('True Intent', fontsize=12)\n",
    "\n",
    "plt.tight_layout()\n",
    "plt.show()"
   ]
  },
  {
   "cell_type": "markdown",
   "metadata": {
    "_cell_guid": "85926dfe-bfca-4f14-a579-789fb920552a",
    "_uuid": "6a5b741b-3baf-444c-b394-198072f62a0c",
    "collapsed": false,
    "jupyter": {
     "outputs_hidden": false
    },
    "trusted": true
   },
   "source": [
    "## Bar Chart: Precision, Recall, F1 per class"
   ]
  },
  {
   "cell_type": "code",
   "execution_count": 29,
   "metadata": {
    "_cell_guid": "4a9fae5d-0215-4f21-892f-cccddf29aaad",
    "_uuid": "31dfb674-7af4-467e-9e30-015d0542866d",
    "collapsed": false,
    "execution": {
     "iopub.execute_input": "2025-06-27T13:31:00.372394Z",
     "iopub.status.busy": "2025-06-27T13:31:00.371962Z",
     "iopub.status.idle": "2025-06-27T13:31:00.659838Z",
     "shell.execute_reply": "2025-06-27T13:31:00.658781Z",
     "shell.execute_reply.started": "2025-06-27T13:31:00.372367Z"
    },
    "jupyter": {
     "outputs_hidden": false
    },
    "trusted": true
   },
   "outputs": [
    {
     "data": {
      "text/plain": [
       "<Figure size 1000x600 with 0 Axes>"
      ]
     },
     "metadata": {},
     "output_type": "display_data"
    },
    {
     "data": {
      "image/png": "[encoded data removed]",
      "text/plain": [
       "<Figure size 640x480 with 1 Axes>"
      ]
     },
     "metadata": {},
     "output_type": "display_data"
    }
   ],
   "source": [
    "# Get classification report as dictionary for Ensemble model\n",
    "report_ensemble = classification_report(y_test, y_pred_ensemble, target_names=label_encoder.classes_, output_dict=True)\n",
    "\n",
    "# Prepare metrics data\n",
    "classes = label_encoder.classes_\n",
    "metrics_data_ensemble = {\n",
    "    'precision': [report_ensemble[cls]['precision'] for cls in classes],\n",
    "    'recall': [report_ensemble[cls]['recall'] for cls in classes],\n",
    "    'f1-score': [report_ensemble[cls]['f1-score'] for cls in classes]\n",
    "}\n",
    "\n",
    "df_ensemble_metrics = pd.DataFrame(metrics_data_ensemble, index=classes)\n",
    "\n",
    "# Plot\n",
    "plt.figure(figsize=(10, 6))\n",
    "df_ensemble_metrics.plot(kind='bar')\n",
    "plt.title(\"Ensemble - Precision, Recall, F1-Score by Class\")\n",
    "plt.xlabel(\"Class\")\n",
    "plt.ylabel(\"Score\")\n",
    "plt.legend(loc='lower right')\n",
    "plt.xticks(rotation=45)\n",
    "plt.tight_layout()\n",
    "plt.show()"
   ]
  },
  {
   "cell_type": "markdown",
   "metadata": {},
   "source": [
    "# ROC CURVES FOR MULTICLASS"
   ]
  },
  {
   "cell_type": "code",
   "execution_count": 30,
   "metadata": {
    "execution": {
     "iopub.execute_input": "2025-06-27T13:33:11.772180Z",
     "iopub.status.busy": "2025-06-27T13:33:11.771878Z",
     "iopub.status.idle": "2025-06-27T13:33:12.055495Z",
     "shell.execute_reply": "2025-06-27T13:33:12.054471Z",
     "shell.execute_reply.started": "2025-06-27T13:33:11.772159Z"
    },
    "trusted": true
   },
   "outputs": [
    {
     "data": {
      "image/png": "[encoded data removed]",
      "text/plain": [
       "<Figure size 1200x800 with 1 Axes>"
      ]
     },
     "metadata": {},
     "output_type": "display_data"
    }
   ],
   "source": [
    "# Set model name and class labels\n",
    "model_name = \"Ensemble Model\"\n",
    "labels = label_encoder.classes_\n",
    "n_classes = len(labels)\n",
    "\n",
    "# Binarize the true labels\n",
    "y_binary = label_binarize(y_test, classes=range(n_classes))\n",
    "\n",
    "# Compute ROC curves and AUC scores for each class\n",
    "fpr = dict()\n",
    "tpr = dict()\n",
    "roc_auc = dict()\n",
    "\n",
    "for i in range(n_classes):\n",
    "    fpr[i], tpr[i], _ = roc_curve(y_binary[:, i], y_proba_ensemble[:, i])\n",
    "    roc_auc[i] = auc(fpr[i], tpr[i])\n",
    "\n",
    "# Plotting\n",
    "plt.figure(figsize=(12, 8))\n",
    "colors = plt.cm.Set1(np.linspace(0, 1, n_classes))\n",
    "\n",
    "for i, color in zip(range(n_classes), colors):\n",
    "    plt.plot(fpr[i], tpr[i], color=color, lw=2,\n",
    "             label=f'{labels[i]} (AUC = {roc_auc[i]:.3f})')\n",
    "\n",
    "plt.plot([0, 1], [0, 1], 'k--', lw=2, label='Random Classifier')\n",
    "plt.xlim([0.0, 1.0])\n",
    "plt.ylim([0.0, 1.05])\n",
    "plt.xlabel('False Positive Rate', fontsize=12)\n",
    "plt.ylabel('True Positive Rate', fontsize=12)\n",
    "plt.title(f'ROC Curves - {model_name}', fontsize=14, fontweight='bold')\n",
    "plt.legend(loc=\"lower right\", fontsize=10)\n",
    "plt.grid(True, alpha=0.3)\n",
    "plt.show()"
   ]
  },
  {
   "cell_type": "markdown",
   "metadata": {
    "_cell_guid": "9919e8cf-0f44-4ec3-8485-f17f6e1e94c8",
    "_uuid": "e6a513fd-2cec-4bd1-a148-7bd0f297bf46",
    "collapsed": false,
    "jupyter": {
     "outputs_hidden": false
    },
    "trusted": true
   },
   "source": [
    "# Learning Curve"
   ]
  },
  {
   "cell_type": "code",
   "execution_count": 31,
   "metadata": {
    "_cell_guid": "6621a2df-3c03-473e-9e9c-0aaba965d221",
    "_uuid": "ef8f6cf8-1947-4d0a-b375-f86a3b54adaf",
    "collapsed": false,
    "execution": {
     "iopub.execute_input": "2025-06-27T12:36:39.850186Z",
     "iopub.status.busy": "2025-06-27T12:36:39.849871Z",
     "iopub.status.idle": "2025-06-27T12:36:52.227383Z",
     "shell.execute_reply": "2025-06-27T12:36:52.226336Z",
     "shell.execute_reply.started": "2025-06-27T12:36:39.850161Z"
    },
    "jupyter": {
     "outputs_hidden": false
    },
    "trusted": true
   },
   "outputs": [
    {
     "data": {
      "image/png": "[encoded data removed]",
      "text/plain": [
       "<Figure size 1000x600 with 1 Axes>"
      ]
     },
     "metadata": {},
     "output_type": "display_data"
    }
   ],
   "source": [
    "# Generate learning curve\n",
    "train_sizes, train_scores, val_scores = learning_curve(\n",
    "    ensemble_model, X_train, y_train,\n",
    "    cv=StratifiedKFold(5, shuffle=True, random_state=42),\n",
    "    scoring='accuracy',\n",
    "    train_sizes=np.linspace(0.1, 1.0, 10),\n",
    "    n_jobs=-1\n",
    ")\n",
    "\n",
    "# Calculate means and standard deviations\n",
    "train_mean = train_scores.mean(axis=1)\n",
    "train_std = train_scores.std(axis=1)\n",
    "val_mean = val_scores.mean(axis=1)\n",
    "val_std = val_scores.std(axis=1)\n",
    "\n",
    "# Plot learning curve\n",
    "plt.figure(figsize=(10, 6))\n",
    "plt.plot(train_sizes, train_mean, 'o-', color='blue', label='Training Score')\n",
    "plt.fill_between(train_sizes, train_mean - train_std, train_mean + train_std, alpha=0.1, color='blue')\n",
    "plt.plot(train_sizes, val_mean, 'o-', color='red', label='Validation Score')\n",
    "plt.fill_between(train_sizes, val_mean - val_std, val_mean + val_std, alpha=0.1, color='red')\n",
    "plt.title(\"Learning Curve - Ensemble Model\")\n",
    "plt.xlabel(\"Training Set Size\")\n",
    "plt.ylabel(\"Accuracy Score\")\n",
    "plt.legend()\n",
    "plt.grid(True)\n",
    "plt.show()"
   ]
  },
  {
   "cell_type": "markdown",
   "metadata": {
    "_cell_guid": "8d7a7bd6-5e39-4df2-8db5-8a1a646d6546",
    "_uuid": "ee20e71c-20a2-4b5a-8d28-baee64491004",
    "collapsed": false,
    "jupyter": {
     "outputs_hidden": false
    },
    "trusted": true
   },
   "source": [
    "# Confidence Score Analysis"
   ]
  },
  {
   "cell_type": "code",
   "execution_count": 32,
   "metadata": {
    "_cell_guid": "c575a740-d63a-4edd-9dba-2a6e646d99a2",
    "_uuid": "03af25c3-57c8-41f5-ad31-cd3f2daba100",
    "collapsed": false,
    "execution": {
     "iopub.execute_input": "2025-06-27T12:36:52.229186Z",
     "iopub.status.busy": "2025-06-27T12:36:52.228852Z",
     "iopub.status.idle": "2025-06-27T12:36:52.435928Z",
     "shell.execute_reply": "2025-06-27T12:36:52.434940Z",
     "shell.execute_reply.started": "2025-06-27T12:36:52.229159Z"
    },
    "jupyter": {
     "outputs_hidden": false
    },
    "trusted": true
   },
   "outputs": [
    {
     "data": {
      "image/png": "[encoded data removed]",
      "text/plain": [
       "<Figure size 1000x600 with 1 Axes>"
      ]
     },
     "metadata": {},
     "output_type": "display_data"
    }
   ],
   "source": [
    "# Get confidence scores for ensemble predictions\n",
    "confidences_ensemble = np.max(y_proba_ensemble, axis=1)\n",
    "\n",
    "# Plot histogram of confidence scores\n",
    "plt.figure(figsize=(10, 6))\n",
    "plt.hist(confidences_ensemble, bins=20, edgecolor='black', alpha=0.7)\n",
    "plt.title(\"Distribution of Prediction Confidence Scores (Ensemble)\")\n",
    "plt.xlabel(\"Confidence Score\")\n",
    "plt.ylabel(\"Frequency\")\n",
    "plt.grid(True, alpha=0.3)\n",
    "plt.show()"
   ]
  },
  {
   "cell_type": "markdown",
   "metadata": {
    "_cell_guid": "a66e8342-76a0-4194-b9b7-de8dc15a9b7f",
    "_uuid": "094ec0d3-64d9-480b-87e2-78b34fea25a9",
    "collapsed": false,
    "jupyter": {
     "outputs_hidden": false
    },
    "trusted": true
   },
   "source": [
    "# F1 Score vs Confidence Threshold"
   ]
  },
  {
   "cell_type": "code",
   "execution_count": 33,
   "metadata": {
    "_cell_guid": "20d5348a-6c2c-40ac-99fc-2dd7eb741e50",
    "_uuid": "4f1259a7-a1dc-427d-9c68-a502a24d0398",
    "collapsed": false,
    "execution": {
     "iopub.execute_input": "2025-06-27T12:36:52.437037Z",
     "iopub.status.busy": "2025-06-27T12:36:52.436815Z",
     "iopub.status.idle": "2025-06-27T12:36:52.896937Z",
     "shell.execute_reply": "2025-06-27T12:36:52.896071Z",
     "shell.execute_reply.started": "2025-06-27T12:36:52.437020Z"
    },
    "jupyter": {
     "outputs_hidden": false
    },
    "trusted": true
   },
   "outputs": [
    {
     "data": {
      "image/png": "[encoded data removed]",
      "text/plain": [
       "<Figure size 1500x600 with 2 Axes>"
      ]
     },
     "metadata": {},
     "output_type": "display_data"
    }
   ],
   "source": [
    "# Analyze F1 score at different confidence thresholds\n",
    "thresholds = np.linspace(0.1, 1.0, 20)\n",
    "macro_f1_scores = []\n",
    "weighted_f1_scores = []\n",
    "coverage = []\n",
    "\n",
    "for threshold in thresholds:\n",
    "    # Get predictions above threshold\n",
    "    confident_mask = confidences_ensemble >= threshold\n",
    "    \n",
    "    if confident_mask.sum() == 0:\n",
    "        macro_f1_scores.append(0)\n",
    "        weighted_f1_scores.append(0)\n",
    "        coverage.append(0)\n",
    "        continue\n",
    "    \n",
    "    y_true_confident = y_test[confident_mask]\n",
    "    y_pred_confident = y_pred_ensemble[confident_mask]\n",
    "    \n",
    "    # Calculate F1 scores\n",
    "    macro_f1 = f1_score(y_true_confident, y_pred_confident, average='macro')\n",
    "    weighted_f1 = f1_score(y_true_confident, y_pred_confident, average='weighted')\n",
    "    \n",
    "    macro_f1_scores.append(macro_f1)\n",
    "    weighted_f1_scores.append(weighted_f1)\n",
    "    coverage.append(confident_mask.mean())\n",
    "\n",
    "# Plot F1 vs threshold\n",
    "fig, (ax1, ax2) = plt.subplots(1, 2, figsize=(15, 6))\n",
    "\n",
    "ax1.plot(thresholds, macro_f1_scores, 'o-', label='Macro F1', color='blue')\n",
    "ax1.plot(thresholds, weighted_f1_scores, 's-', label='Weighted F1', color='red')\n",
    "ax1.set_title(\"F1 Score vs Confidence Threshold\")\n",
    "ax1.set_xlabel(\"Confidence Threshold\")\n",
    "ax1.set_ylabel(\"F1 Score\")\n",
    "ax1.legend()\n",
    "ax1.grid(True)\n",
    "\n",
    "ax2.plot(thresholds, coverage, 'o-', color='green')\n",
    "ax2.set_title(\"Coverage vs Confidence Threshold\")\n",
    "ax2.set_xlabel(\"Confidence Threshold\")\n",
    "ax2.set_ylabel(\"Coverage (Fraction of Predictions)\")\n",
    "ax2.grid(True)\n",
    "\n",
    "plt.tight_layout()\n",
    "plt.show()"
   ]
  },
  {
   "cell_type": "markdown",
   "metadata": {
    "_cell_guid": "636dee60-93dc-4e8e-b21c-24ead166f714",
    "_uuid": "89c98451-1f64-4f7f-804c-5006c6fced50",
    "collapsed": false,
    "jupyter": {
     "outputs_hidden": false
    },
    "trusted": true
   },
   "source": [
    "# Error Analysis"
   ]
  },
  {
   "cell_type": "code",
   "execution_count": 34,
   "metadata": {
    "execution": {
     "iopub.execute_input": "2025-06-27T13:34:53.439381Z",
     "iopub.status.busy": "2025-06-27T13:34:53.439095Z",
     "iopub.status.idle": "2025-06-27T13:34:53.444289Z",
     "shell.execute_reply": "2025-06-27T13:34:53.443454Z",
     "shell.execute_reply.started": "2025-06-27T13:34:53.439362Z"
    },
    "trusted": true
   },
   "outputs": [],
   "source": [
    "y_true = y_test\n",
    "y_pred = y_pred_ensemble\n",
    "confidences = np.max(y_proba_ensemble, axis=1)\n",
    "labels = label_encoder.classes_\n",
    "\n",
    "misclassified = y_true != y_pred"
   ]
  },
  {
   "cell_type": "markdown",
   "metadata": {},
   "source": [
    "#  Error Rate by True Class"
   ]
  },
  {
   "cell_type": "code",
   "execution_count": 35,
   "metadata": {
    "execution": {
     "iopub.execute_input": "2025-06-27T13:35:07.192715Z",
     "iopub.status.busy": "2025-06-27T13:35:07.192346Z",
     "iopub.status.idle": "2025-06-27T13:35:07.419619Z",
     "shell.execute_reply": "2025-06-27T13:35:07.418665Z",
     "shell.execute_reply.started": "2025-06-27T13:35:07.192689Z"
    },
    "trusted": true
   },
   "outputs": [
    {
     "data": {
      "image/png": "[encoded data removed]",
      "text/plain": [
       "<Figure size 800x600 with 1 Axes>"
      ]
     },
     "metadata": {},
     "output_type": "display_data"
    }
   ],
   "source": [
    "error_by_class = []\n",
    "class_sizes = []\n",
    "\n",
    "for i, label in enumerate(labels):\n",
    "    mask = y_true == i\n",
    "    if mask.sum() > 0:\n",
    "        error_rate = misclassified[mask].mean()\n",
    "        error_by_class.append(error_rate)\n",
    "        class_sizes.append(mask.sum())\n",
    "    else:\n",
    "        error_by_class.append(0)\n",
    "        class_sizes.append(0)\n",
    "\n",
    "plt.figure(figsize=(8, 6))\n",
    "bars = plt.bar(labels, error_by_class, color='lightcoral', alpha=0.7)\n",
    "plt.title('Error Rate by True Class')\n",
    "plt.xlabel('Intent Class')\n",
    "plt.ylabel('Error Rate')\n",
    "plt.xticks(rotation=45)\n",
    "plt.grid(True, alpha=0.3)\n",
    "\n",
    "# Annotate bars\n",
    "for bar, rate in zip(bars, error_by_class):\n",
    "    height = bar.get_height()\n",
    "    plt.text(bar.get_x() + bar.get_width()/2., height + 0.01,\n",
    "             f'{rate:.2%}', ha='center', va='bottom', fontsize=9)\n",
    "\n",
    "plt.tight_layout()\n",
    "plt.show()"
   ]
  },
  {
   "cell_type": "markdown",
   "metadata": {},
   "source": [
    "# Misclassified Examples"
   ]
  },
  {
   "cell_type": "code",
   "execution_count": 36,
   "metadata": {
    "_cell_guid": "f3caa4c3-7d89-412a-a305-879c64aadeae",
    "_uuid": "951142da-194c-4ddf-9771-74b5874b6803",
    "collapsed": false,
    "execution": {
     "iopub.execute_input": "2025-06-27T13:37:44.655457Z",
     "iopub.status.busy": "2025-06-27T13:37:44.655140Z",
     "iopub.status.idle": "2025-06-27T13:37:44.666482Z",
     "shell.execute_reply": "2025-06-27T13:37:44.665663Z",
     "shell.execute_reply.started": "2025-06-27T13:37:44.655436Z"
    },
    "jupyter": {
     "outputs_hidden": false
    },
    "trusted": true
   },
   "outputs": [
    {
     "name": "stdout",
     "output_type": "stream",
     "text": [
      "Number of misclassified examples: 1\n",
      "Average confidence of misclassified examples: 0.7075\n",
      "Average confidence of correct predictions: 0.9213\n",
      "\n",
      "Most confident wrong predictions:\n",
      "True: web_search, Predicted: general_chat, Confidence: 0.7075\n"
     ]
    }
   ],
   "source": [
    "misclassified_indices = np.where(y_test != y_pred_ensemble)[0]\n",
    "misclassified_confidences = confidences_ensemble[misclassified_indices]\n",
    "\n",
    "print(f\"Number of misclassified examples: {len(misclassified_indices)}\")\n",
    "print(f\"Average confidence of misclassified examples: {misclassified_confidences.mean():.4f}\")\n",
    "print(f\"Average confidence of correct predictions: {confidences_ensemble[y_test == y_pred_ensemble].mean():.4f}\")\n",
    "\n",
    "# Show most confident wrong predictions\n",
    "if len(misclassified_indices) > 0:\n",
    "    most_confident_wrong = misclassified_indices[np.argsort(misclassified_confidences)[-5:]]\n",
    "    \n",
    "    print(\"\\nMost confident wrong predictions:\")\n",
    "    for idx in most_confident_wrong:\n",
    "        true_label = label_encoder.inverse_transform([y_test[idx]])[0]\n",
    "        pred_label = label_encoder.inverse_transform([y_pred_ensemble[idx]])[0]\n",
    "        confidence = confidences_ensemble[idx]\n",
    "        print(f\"True: {true_label}, Predicted: {pred_label}, Confidence: {confidence:.4f}\")"
   ]
  },
  {
   "cell_type": "markdown",
   "metadata": {
    "_cell_guid": "25c5b969-3319-4165-ae3a-696f60bef450",
    "_uuid": "82351565-dea1-459e-80ed-6659c3f1d465",
    "collapsed": false,
    "jupyter": {
     "outputs_hidden": false
    },
    "trusted": true
   },
   "source": [
    "# Model Performance Summary"
   ]
  },
  {
   "cell_type": "code",
   "execution_count": 37,
   "metadata": {
    "_cell_guid": "03eff54b-616d-4f11-a236-a1f6a633a680",
    "_uuid": "8b706380-3f38-47b1-b03a-931856da1752",
    "collapsed": false,
    "execution": {
     "iopub.execute_input": "2025-06-27T13:38:15.258497Z",
     "iopub.status.busy": "2025-06-27T13:38:15.258105Z",
     "iopub.status.idle": "2025-06-27T13:38:15.273730Z",
     "shell.execute_reply": "2025-06-27T13:38:15.272516Z",
     "shell.execute_reply.started": "2025-06-27T13:38:15.258472Z"
    },
    "jupyter": {
     "outputs_hidden": false
    },
    "trusted": true
   },
   "outputs": [
    {
     "name": "stdout",
     "output_type": "stream",
     "text": [
      "\n",
      "============================================================\n",
      "FINAL MODEL PERFORMANCE SUMMARY\n",
      "============================================================\n",
      "Best Model: Ensemble (Naive Bayes + Logistic Regression + RandomForestClassifer)\n",
      "Test Accuracy: 0.9950\n",
      "Test F1-Score (Weighted): 0.9950\n",
      "Test F1-Score (Macro): 0.9950\n",
      "Average Confidence: 0.9202\n",
      "Total Test Samples: 200\n",
      "============================================================\n"
     ]
    }
   ],
   "source": [
    "print(\"\\n\" + \"=\"*60)\n",
    "print(\"FINAL MODEL PERFORMANCE SUMMARY\")\n",
    "print(\"=\"*60)\n",
    "print(f\"Best Model: Ensemble (Naive Bayes + Logistic Regression + RandomForestClassifer)\")\n",
    "print(f\"Test Accuracy: {accuracy_score(y_test, y_pred_ensemble):.4f}\")\n",
    "print(f\"Test F1-Score (Weighted): {f1_score(y_test, y_pred_ensemble, average='weighted'):.4f}\")\n",
    "print(f\"Test F1-Score (Macro): {f1_score(y_test, y_pred_ensemble, average='macro'):.4f}\")\n",
    "print(f\"Average Confidence: {confidences_ensemble.mean():.4f}\")\n",
    "print(f\"Total Test Samples: {len(y_test)}\")\n",
    "print(\"=\"*60)"
   ]
  }
 ],
 "metadata": {
  "kaggle": {
   "accelerator": "none",
   "dataSources": [
    {
     "datasetId": 7733419,
     "sourceId": 12271874,
     "sourceType": "datasetVersion"
    }
   ],
   "dockerImageVersionId": 31040,
   "isGpuEnabled": false,
   "isInternetEnabled": true,
   "language": "python",
   "sourceType": "notebook"
  },
  "kernelspec": {
   "display_name": "Python 3",
   "language": "python",
   "name": "python3"
  },
  "language_info": {
   "codemirror_mode": {
    "name": "ipython",
    "version": 3
   },
   "file_extension": ".py",
   "mimetype": "text/x-python",
   "name": "python",
   "nbconvert_exporter": "python",
   "pygments_lexer": "ipython3",
   "version": "3.10.0"
  }
 },
 "nbformat": 4,
 "nbformat_minor": 4
}
